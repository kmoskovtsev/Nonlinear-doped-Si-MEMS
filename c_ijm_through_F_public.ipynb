{
 "cells": [
  {
   "cell_type": "markdown",
   "metadata": {},
   "source": [
    "### License (MIT)\n",
    "Copyright (c) 2016 Kirill Moskovtsev\n",
    "\n",
    "Permission is hereby granted, free of charge, to any person obtaining a copy of this software and associated documentation files (the \"Software\"), to deal in the Software without restriction, including without limitation the rights to use, copy, modify, merge, publish, distribute, sublicense, and/or sell copies of the Software, and to permit persons to whom the Software is furnished to do so, subject to the following conditions:\n",
    "\n",
    "The above copyright notice and this permission notice shall be included in all copies or substantial portions of the Software.\n",
    "\n",
    "THE SOFTWARE IS PROVIDED \"AS IS\", WITHOUT WARRANTY OF ANY KIND, EXPRESS OR IMPLIED, INCLUDING BUT NOT LIMITED TO THE WARRANTIES OF MERCHANTABILITY, FITNESS FOR A PARTICULAR PURPOSE AND NONINFRINGEMENT. IN NO EVENT SHALL THE AUTHORS OR COPYRIGHT HOLDERS BE LIABLE FOR ANY CLAIM, DAMAGES OR OTHER LIABILITY, WHETHER IN AN ACTION OF CONTRACT, TORT OR OTHERWISE, ARISING FROM, OUT OF OR IN CONNECTION WITH THE SOFTWARE OR THE USE OR OTHER DEALINGS IN THE SOFTWARE."
   ]
  },
  {
   "cell_type": "markdown",
   "metadata": {
    "collapsed": true
   },
   "source": [
    "# Model for Si with deformation potential $\\Xi_u$ shear strain effects ($\\Xi_{sh}$)\n",
    "Run the 'Definitions' cell first, then run the cells for Si or Ge.\n",
    "## Definitions:"
   ]
  },
  {
   "cell_type": "code",
   "execution_count": 1,
   "metadata": {
    "collapsed": false
   },
   "outputs": [],
   "source": [
    "'''Python 2.7'''\n",
    "from sympy import *\n",
    "import numpy as np\n",
    "from itertools import combinations_with_replacement, permutations\n",
    "from IPython.display import Math, display\n",
    "\n",
    "def avg_wm(Xis, structure, eta_structure):\n",
    "    res = sum_wetas_etam(Xis, structure, eta_structure)\n",
    "    T_power = 0\n",
    "    for i in structure:\n",
    "        T_power = T_power + i\n",
    "    return res/M**len(structure)/T**T_power\n",
    "\n",
    "def sum_wetas_etam(Xis, structure, eta_structure):\n",
    "    '''\n",
    "    This is the most important function in the code.\n",
    "    See explanation in a cell below.\n",
    "    The version includes shear strain term, used when including mass effects.\n",
    "    '''\n",
    "    prod = 1\n",
    "    M = len(Xis)\n",
    "    for ns, ne in zip(structure, eta_structure):\n",
    "        sumi = 0\n",
    "        for i in range(M):\n",
    "            #sumi = sumi + (einsum('ij,ij', Xis[i], eta_t) + Ds*eta_minus[i]**2)**ns*eta_minus[i]**ne\n",
    "            sumi = sumi + (einsum('ij,ij', Xis[i], eta_t) + Ds*eta_minus[i]**2 + Ds4*eta_minus[i]**4)**ns*eta_minus[i]**ne\n",
    "        prod = prod*sumi\n",
    "    return expand(prod)\n",
    "\n",
    "\n",
    "def einsum(string, *args):\n",
    "    '''\n",
    "    Analog of np.einsum which works for 'object' data,\n",
    "    not only numbers\n",
    "    Posted by Krastanov at http://stackoverflow.com/questions/15606937/how-do-i-get-numpy-einsum-to-play-well-with-sympy\n",
    "    '''\n",
    "    index_groups = map(list, string.split(','))\n",
    "    assert len(index_groups) == len(args)\n",
    "    tensor_indices_tuples = zip(index_groups, args)\n",
    "    return reduce(einsum_for_two, tensor_indices_tuples)[1]\n",
    "\n",
    "def einsum_for_two(tensor_indices1, tensor_indices2):\n",
    "    '''\n",
    "    component of einsum\n",
    "    '''\n",
    "    string1, tensor1 = tensor_indices1\n",
    "    string2, tensor2 = tensor_indices2\n",
    "    sum_over_indices = set(string1).intersection(set(string2))\n",
    "    new_string = string1 + string2\n",
    "    axes = ([], [])\n",
    "    for i in sum_over_indices:\n",
    "        new_string.remove(i)\n",
    "        new_string.remove(i)\n",
    "        axes[0].append(string1.index(i))\n",
    "        axes[1].append(string2.index(i))\n",
    "    return new_string, np.tensordot(tensor1, tensor2, axes)\n",
    "\n",
    "\n",
    "def show_math(x, s = '', prnt = False):\n",
    "    display(Math(s + latex(x)))\n",
    "    if prnt:\n",
    "        print s + latex(x)\n",
    "\n",
    "def R(i,j):\n",
    "    return Rational(i,j)\n",
    "    \n",
    "sd, su, N, T, F0, F1, F2, F3, F4, F32, J, Ds, Ds4= symbols(\"\\\\Xi_d \\\\Xi_u N T F_{1/2} {F_{1/2}}' {F_{1/2}}'' {F_{1/2}}'''\" + \\\n",
    "                                                  \" {F_{1/2}}'''' F_{3/2} J \\\\Xi_{s2} \\\\Xi_{s4}\")\n",
    "eta1, eta2, eta3, eta4, eta5, eta6, theta0, x, K = symbols(\"\\\\eta_1 \\\\eta_2 \\\\eta_3 \\\\eta_4 \\\\eta_5 \\\\eta_6 \\\\theta_0 x K\")\n",
    "eta_t = [[eta1, Rational(1,2)*eta6, Rational(1,2)*eta5],[Rational(1,2)*eta6, eta2, Rational(1,2)*eta4],\\\n",
    "         [Rational(1,2)*eta5, Rational(1,2)*eta4, eta3]]\n",
    "eta_minus = [Rational(1,2)*eta4, Rational(1,2)*eta4, Rational(1,2)*eta5, \\\n",
    "             Rational(1,2)*eta5, Rational(1,2)*eta6, Rational(1,2)*eta6]\n",
    "M = 6\n",
    "unit = [[1,0,0], [0,1,0], [0,0,1]]\n",
    "unitm = Matrix(unit)\n",
    "\n",
    "Xis = []\n",
    "for i in range(3):\n",
    "    for j in [-1, 1]:\n",
    "        a = np.reshape(np.array([0,0,0]), (1,3))\n",
    "        a[0,i] = j\n",
    "        at = np.reshape(a, (3,1))\n",
    "        Xis.append(sd*unitm + su*np.dot(at, a))\n"
   ]
  },
  {
   "cell_type": "markdown",
   "metadata": {},
   "source": [
    "**'sum_wetas_etam**(Xis, structure, eta_structure)':\n",
    "\n",
    "Calculates the following expression:\n",
    "\n",
    "$$\n",
    "\\left(\\sum_\\alpha \\left(\\delta E^{(\\alpha)}\\right)^{\\text{structure[0]}}\\eta_\\alpha^{eta\\_structure[0]}\\right)...\\left(\\sum_\\alpha \\left(\\delta E^{(\\alpha)}\\right)^{\\text{structure[r]}}\\eta_\\alpha^{eta\\_structure[r]}\\right)\n",
    "$$\n",
    "where $\\delta E^{(\\alpha)}$ is the shift of valley $\\alpha$, $\\eta_\\alpha$ defined as $\\varepsilon_\\alpha$ in the appendix of the paper, but $\\eta_\\alpha$ is written in Voigt notation.\n",
    "\n",
    "If we ignore *'eta_structure'*, then $\\Delta_\\varepsilon$ structures from the paper are written as follows, for example:\n",
    "$$\n",
    "    \\overline{\\Delta_\\varepsilon^k}\\overline{\\Delta_\\varepsilon^n} = T^{-(k+n)}M^{-2}\\left(\\text{sum_wetas_etam}(Xis, (k,n), (0,0))\\right)\n",
    "$$"
   ]
  },
  {
   "cell_type": "markdown",
   "metadata": {},
   "source": [
    "## Calculate expressions for $\\delta c_{ij...}$ for doped Si:\n",
    "$\\Xi_{s2} \\equiv \\Xi_{sh}$;\n",
    "\n",
    "$\\Xi_{s4}$ is the hypothetical deformation potential for a quartic in strain shift of valleys, and it is assumed small."
   ]
  },
  {
   "cell_type": "code",
   "execution_count": 7,
   "metadata": {
    "collapsed": false
   },
   "outputs": [
    {
     "name": "stdout",
     "output_type": "stream",
     "text": [
      "Second order:\n"
     ]
    },
    {
     "data": {
      "text/latex": [
       "$$\\delta c_{11} = - \\frac{2 N \\Xi_u^{2} {F_{1/2}}'}{9 F_{1/2} T}$$"
      ],
      "text/plain": [
       "<IPython.core.display.Math object>"
      ]
     },
     "metadata": {},
     "output_type": "display_data"
    },
    {
     "data": {
      "text/latex": [
       "$$\\delta c_{12} = \\frac{N \\Xi_u^{2} {F_{1/2}}'}{9 F_{1/2} T}$$"
      ],
      "text/plain": [
       "<IPython.core.display.Math object>"
      ]
     },
     "metadata": {},
     "output_type": "display_data"
    },
    {
     "data": {
      "text/latex": [
       "$$\\delta c_{44} = \\frac{N \\Xi_{s2}}{6}$$"
      ],
      "text/plain": [
       "<IPython.core.display.Math object>"
      ]
     },
     "metadata": {},
     "output_type": "display_data"
    },
    {
     "name": "stdout",
     "output_type": "stream",
     "text": [
      "Third order:\n"
     ]
    },
    {
     "data": {
      "text/latex": [
       "$$\\delta c_{111} = \\frac{2 N \\Xi_u^{3} {F_{1/2}}''}{27 F_{1/2} T^{2}}$$"
      ],
      "text/plain": [
       "<IPython.core.display.Math object>"
      ]
     },
     "metadata": {},
     "output_type": "display_data"
    },
    {
     "data": {
      "text/latex": [
       "$$\\delta c_{112} = - \\frac{N \\Xi_u^{3} {F_{1/2}}''}{27 F_{1/2} T^{2}}$$"
      ],
      "text/plain": [
       "<IPython.core.display.Math object>"
      ]
     },
     "metadata": {},
     "output_type": "display_data"
    },
    {
     "data": {
      "text/latex": [
       "$$\\delta c_{123} = \\frac{2 N \\Xi_u^{3} {F_{1/2}}''}{27 F_{1/2} T^{2}}$$"
      ],
      "text/plain": [
       "<IPython.core.display.Math object>"
      ]
     },
     "metadata": {},
     "output_type": "display_data"
    },
    {
     "data": {
      "text/latex": [
       "$$\\delta c_{144} = - \\frac{N \\Xi_u \\Xi_{s2} {F_{1/2}}'}{9 F_{1/2} T}$$"
      ],
      "text/plain": [
       "<IPython.core.display.Math object>"
      ]
     },
     "metadata": {},
     "output_type": "display_data"
    },
    {
     "data": {
      "text/latex": [
       "$$\\delta c_{155} = \\frac{N \\Xi_u \\Xi_{s2} {F_{1/2}}'}{18 F_{1/2} T}$$"
      ],
      "text/plain": [
       "<IPython.core.display.Math object>"
      ]
     },
     "metadata": {},
     "output_type": "display_data"
    },
    {
     "data": {
      "text/latex": [
       "$$\\delta c_{456} = 0$$"
      ],
      "text/plain": [
       "<IPython.core.display.Math object>"
      ]
     },
     "metadata": {},
     "output_type": "display_data"
    },
    {
     "name": "stdout",
     "output_type": "stream",
     "text": [
      "Fourth order:\n"
     ]
    },
    {
     "data": {
      "text/latex": [
       "$$\\delta c_{1111} = - \\frac{2 N \\Xi_u^{4} {F_{1/2}}'''}{27 F_{1/2} T^{3}} + \\frac{4 N \\Xi_u^{4} {F_{1/2}}''^{2}}{27 F_{1/2} T^{3} {F_{1/2}}'}$$"
      ],
      "text/plain": [
       "<IPython.core.display.Math object>"
      ]
     },
     "metadata": {},
     "output_type": "display_data"
    },
    {
     "data": {
      "text/latex": [
       "$$\\delta c_{1112} = \\frac{N \\Xi_u^{4} {F_{1/2}}'''}{27 F_{1/2} T^{3}} - \\frac{2 N \\Xi_u^{4} {F_{1/2}}''^{2}}{27 F_{1/2} T^{3} {F_{1/2}}'}$$"
      ],
      "text/plain": [
       "<IPython.core.display.Math object>"
      ]
     },
     "metadata": {},
     "output_type": "display_data"
    },
    {
     "data": {
      "text/latex": [
       "$$\\delta c_{1122} = - \\frac{N \\Xi_u^{4} {F_{1/2}}'''}{27 F_{1/2} T^{3}} + \\frac{2 N \\Xi_u^{4} {F_{1/2}}''^{2}}{27 F_{1/2} T^{3} {F_{1/2}}'}$$"
      ],
      "text/plain": [
       "<IPython.core.display.Math object>"
      ]
     },
     "metadata": {},
     "output_type": "display_data"
    },
    {
     "data": {
      "text/latex": [
       "$$\\delta c_{1123} = 0$$"
      ],
      "text/plain": [
       "<IPython.core.display.Math object>"
      ]
     },
     "metadata": {},
     "output_type": "display_data"
    },
    {
     "data": {
      "text/latex": [
       "$$\\delta c_{1144} = \\frac{N \\Xi_u^{2} \\Xi_{s2} {F_{1/2}}''}{27 F_{1/2} T^{2}}$$"
      ],
      "text/plain": [
       "<IPython.core.display.Math object>"
      ]
     },
     "metadata": {},
     "output_type": "display_data"
    },
    {
     "data": {
      "text/latex": [
       "$$\\delta c_{1155} = - \\frac{N \\Xi_u^{2} \\Xi_{s2} {F_{1/2}}''}{54 F_{1/2} T^{2}}$$"
      ],
      "text/plain": [
       "<IPython.core.display.Math object>"
      ]
     },
     "metadata": {},
     "output_type": "display_data"
    },
    {
     "data": {
      "text/latex": [
       "$$\\delta c_{1244} = - \\frac{N \\Xi_u^{2} \\Xi_{s2} {F_{1/2}}''}{54 F_{1/2} T^{2}}$$"
      ],
      "text/plain": [
       "<IPython.core.display.Math object>"
      ]
     },
     "metadata": {},
     "output_type": "display_data"
    },
    {
     "data": {
      "text/latex": [
       "$$\\delta c_{1266} = \\frac{N \\Xi_u^{2} \\Xi_{s2} {F_{1/2}}''}{27 F_{1/2} T^{2}}$$"
      ],
      "text/plain": [
       "<IPython.core.display.Math object>"
      ]
     },
     "metadata": {},
     "output_type": "display_data"
    },
    {
     "data": {
      "text/latex": [
       "$$\\delta c_{1456} = 0$$"
      ],
      "text/plain": [
       "<IPython.core.display.Math object>"
      ]
     },
     "metadata": {},
     "output_type": "display_data"
    },
    {
     "data": {
      "text/latex": [
       "$$\\delta c_{4444} = \\frac{N \\Xi_{s4}}{2} - \\frac{N \\Xi_{s2}^{2} {F_{1/2}}'}{6 F_{1/2} T}$$"
      ],
      "text/plain": [
       "<IPython.core.display.Math object>"
      ]
     },
     "metadata": {},
     "output_type": "display_data"
    },
    {
     "data": {
      "text/latex": [
       "$$\\delta c_{4455} = \\frac{N \\Xi_{s2}^{2} {F_{1/2}}'}{36 F_{1/2} T}$$"
      ],
      "text/plain": [
       "<IPython.core.display.Math object>"
      ]
     },
     "metadata": {},
     "output_type": "display_data"
    }
   ],
   "source": [
    "#Free energy terms expressed through strain\n",
    "Free1 = N*T*avg_wm(Xis, (1,), (0,))\n",
    "Free2 = -N*T/F0*(Rational(1,2)*F1*(avg_wm(Xis, (2,), (0,)) - avg_wm(Xis, (1,1), (0,0)) ))\n",
    "\n",
    "Free3 = N*T/F0*(Rational(1,6)*F2*(avg_wm(Xis, (3,),(0,)) - 3*avg_wm(Xis, (2,1),(0,0)) + \\\n",
    "                                  2*avg_wm(Xis, (1,1,1),(0,0,0))) )\n",
    "\n",
    "Free4_1 = Rational(1,24)*N*T*F3/F0*(-6*avg_wm(Xis, (2,1,1), (0,0,0)) + 4*avg_wm(Xis, (3,1),(0,0)) - avg_wm(Xis, (4,),(0,)) +\\\n",
    "                                    3*avg_wm(Xis, (1,1,1,1),(0,0,0,0)))\n",
    "Free4_2 = Rational(1,8)*N*T*F2**2/F0/F1*(avg_wm(Xis, (2,2),(0,0)) - 2*avg_wm(Xis, (2,1,1),(0,0,0)) + \\\n",
    "                                         avg_wm(Xis, (1,1,1,1), (0,0,0,0)) )\n",
    "\n",
    "Free4 = expand(Free4_1 + Free4_2)\n",
    "\n",
    "Free_all = expand(Free1 + Free2 + Free3 + Free4)\n",
    "subs_dict = {eta1: eta1*x, eta2: eta2*x, eta3: eta3*x, eta4: eta4*x, eta5: eta5*x, eta6: eta6*x}\n",
    "Free_all_x = Free_all.subs(subs_dict)\n",
    "Free_xdict = collect(Free_all_x, x, evaluate=False)\n",
    "Free2 = Free_xdict[x**2]\n",
    "Free3 = Free_xdict[x**3]\n",
    "Free4 = Free_xdict[x**4]\n",
    "\n",
    "#Differentiate to find elastic constants:\n",
    "\n",
    "dc11 = simplify(diff(Free2, eta1, eta1))\n",
    "dc12 = simplify(diff(Free2, eta1, eta2))\n",
    "dc44 = simplify(diff(Free2, eta4, eta4))\n",
    "print \"Second order:\"\n",
    "show_math(dc11, '\\\\delta c_{11} = ')\n",
    "show_math(dc12, '\\\\delta c_{12} = ')\n",
    "show_math(dc44, '\\\\delta c_{44} = ')\n",
    "\n",
    "\n",
    "dc111 = diff(Free3, eta1, eta1, eta1)\n",
    "dc112 = diff(Free3, eta1, eta1, eta2)\n",
    "dc123 = diff(Free3, eta1, eta2, eta3)\n",
    "dc144 = diff(Free3, eta1, eta4, eta4)\n",
    "dc155 = diff(Free3, eta1, eta5, eta5)\n",
    "dc456 = diff(Free3, eta4, eta5, eta6)\n",
    "\n",
    "print \"Third order:\"\n",
    "show_math(dc111, '\\\\delta c_{111} = ')\n",
    "show_math(dc112, '\\\\delta c_{112} = ')\n",
    "show_math(dc123, '\\\\delta c_{123} = ')\n",
    "show_math(dc144, '\\\\delta c_{144} = ')\n",
    "show_math(dc155, '\\\\delta c_{155} = ')\n",
    "show_math(dc456, '\\\\delta c_{456} = ', prnt = False)\n",
    "\n",
    "\n",
    "\n",
    "dc1111 = expand(diff(Free4, eta1, eta1, eta1, eta1))\n",
    "dc1112 = expand(diff(Free4, eta1, eta1, eta1, eta2))\n",
    "dc1122 = expand(diff(Free4, eta1, eta1, eta2, eta2))\n",
    "dc1123 = expand(diff(Free4, eta1, eta1, eta2, eta3))\n",
    "dc1144 = expand(diff(Free4, eta1, eta1, eta4, eta4))\n",
    "dc1155 = expand(diff(Free4, eta1, eta1, eta5, eta5))\n",
    "dc1244 = expand(diff(Free4, eta1, eta2, eta4, eta4))\n",
    "dc1266 = expand(diff(Free4, eta1, eta2, eta6, eta6))\n",
    "dc1456 = expand(diff(Free4, eta1, eta4, eta5, eta6))\n",
    "dc4444 = expand(diff(Free4, eta4, eta4, eta4, eta4))\n",
    "dc4455 = expand(diff(Free4, eta4, eta4, eta5, eta5))\n",
    "print \"Fourth order:\"\n",
    "show_math(dc1111, '\\\\delta c_{1111} = ')\n",
    "show_math(dc1112, '\\\\delta c_{1112} = ')\n",
    "show_math(dc1122, '\\\\delta c_{1122} = ')\n",
    "show_math(dc1123, '\\\\delta c_{1123} = ')\n",
    "show_math(dc1144, '\\\\delta c_{1144} = ')\n",
    "show_math(dc1155, '\\\\delta c_{1155} = ')\n",
    "show_math(dc1244, '\\\\delta c_{1244} = ')\n",
    "show_math(dc1266, '\\\\delta c_{1266} = ')\n",
    "show_math(dc1456, '\\\\delta c_{1456} = ')\n",
    "show_math(dc4444, '\\\\delta c_{4444} = ', prnt = False)\n",
    "show_math(dc4455, '\\\\delta c_{4455} = ', prnt = False)"
   ]
  },
  {
   "cell_type": "markdown",
   "metadata": {},
   "source": [
    "## Save single-crystal $c$-expressions\n",
    "to reuse them in the 'mode_calculation.ipynb'"
   ]
  },
  {
   "cell_type": "code",
   "execution_count": 5,
   "metadata": {
    "collapsed": false
   },
   "outputs": [],
   "source": [
    "import pickle\n",
    "c11, c12, c44, c111, c112, c123, c144, c155, c456 = \\\n",
    "symbols('c11 c12 c44 c111 c112 c123 c144 c155 c456')\n",
    "c1111, c1112, c1122, c1123, c1144, c1155, c1244, c1266, c1456, c4444, c4455 = \\\n",
    "symbols('c1111 c1112 c1122 c1123 c1144 c1155 c1244 c1266 c1456 c4444 c4455')\n",
    "\n",
    "c = {c11:dc11, c12:dc12, c44:dc44, c111:dc111, c112:dc112, c123:dc123, c144:dc144, \\\n",
    "            c155:dc155, c456:dc456, c1111:dc1111, c1112:dc1112, c1122:dc1122, c1123:dc1123, \\\n",
    "             c1144:dc1144,\\\n",
    "            c1155:dc1155, c1244:dc1244, c1266:dc1266, c1456:dc1456, c4444:dc4444, c4455:dc4455}\n",
    "fname = './single_expressions/c_values_single.dat'\n",
    "if not os.path.exists(os.path.dirname(fname)):\n",
    "        os.makedirs(os.path.dirname(fname))\n",
    "        print './single_expressions/ created'\n",
    "ff = open(fname, 'w')\n",
    "pickle.dump(c, ff)\n",
    "ff.close()"
   ]
  },
  {
   "cell_type": "markdown",
   "metadata": {},
   "source": [
    "# Germanium"
   ]
  },
  {
   "cell_type": "code",
   "execution_count": 2,
   "metadata": {
    "collapsed": false
   },
   "outputs": [
    {
     "name": "stdout",
     "output_type": "stream",
     "text": [
      "Second order:\n"
     ]
    },
    {
     "data": {
      "text/latex": [
       "$$\\delta c_{11} = 0$$"
      ],
      "text/plain": [
       "<IPython.core.display.Math object>"
      ]
     },
     "metadata": {},
     "output_type": "display_data"
    },
    {
     "data": {
      "text/latex": [
       "$$\\delta c_{12} = 0$$"
      ],
      "text/plain": [
       "<IPython.core.display.Math object>"
      ]
     },
     "metadata": {},
     "output_type": "display_data"
    },
    {
     "data": {
      "text/latex": [
       "$$\\delta c_{44} = - \\frac{N \\Xi_u^{2} {F_{1/2}}'}{9 F_{1/2} T}$$"
      ],
      "text/plain": [
       "<IPython.core.display.Math object>"
      ]
     },
     "metadata": {},
     "output_type": "display_data"
    },
    {
     "name": "stdout",
     "output_type": "stream",
     "text": [
      "Third order:\n"
     ]
    },
    {
     "data": {
      "text/latex": [
       "$$\\delta c_{111} = 0$$"
      ],
      "text/plain": [
       "<IPython.core.display.Math object>"
      ]
     },
     "metadata": {},
     "output_type": "display_data"
    },
    {
     "data": {
      "text/latex": [
       "$$\\delta c_{112} = 0$$"
      ],
      "text/plain": [
       "<IPython.core.display.Math object>"
      ]
     },
     "metadata": {},
     "output_type": "display_data"
    },
    {
     "data": {
      "text/latex": [
       "$$\\delta c_{123} = 0$$"
      ],
      "text/plain": [
       "<IPython.core.display.Math object>"
      ]
     },
     "metadata": {},
     "output_type": "display_data"
    },
    {
     "data": {
      "text/latex": [
       "$$\\delta c_{144} = 0$$"
      ],
      "text/plain": [
       "<IPython.core.display.Math object>"
      ]
     },
     "metadata": {},
     "output_type": "display_data"
    },
    {
     "data": {
      "text/latex": [
       "$$\\delta c_{155} = 0$$"
      ],
      "text/plain": [
       "<IPython.core.display.Math object>"
      ]
     },
     "metadata": {},
     "output_type": "display_data"
    },
    {
     "data": {
      "text/latex": [
       "$$\\delta c_{456} = \\frac{N \\Xi_u^{3} {F_{1/2}}''}{27 F_{1/2} T^{2}}$$"
      ],
      "text/plain": [
       "<IPython.core.display.Math object>"
      ]
     },
     "metadata": {},
     "output_type": "display_data"
    },
    {
     "name": "stdout",
     "output_type": "stream",
     "text": [
      "\\delta c_{456} = \\frac{N \\Xi_u^{3} {F_{1/2}}''}{27 F_{1/2} T^{2}}\n",
      "Fourth order:\n"
     ]
    },
    {
     "data": {
      "text/latex": [
       "$$\\delta c_{1111} = 0$$"
      ],
      "text/plain": [
       "<IPython.core.display.Math object>"
      ]
     },
     "metadata": {},
     "output_type": "display_data"
    },
    {
     "data": {
      "text/latex": [
       "$$\\delta c_{1112} = 0$$"
      ],
      "text/plain": [
       "<IPython.core.display.Math object>"
      ]
     },
     "metadata": {},
     "output_type": "display_data"
    },
    {
     "data": {
      "text/latex": [
       "$$\\delta c_{1122} = 0$$"
      ],
      "text/plain": [
       "<IPython.core.display.Math object>"
      ]
     },
     "metadata": {},
     "output_type": "display_data"
    },
    {
     "data": {
      "text/latex": [
       "$$\\delta c_{1123} = 0$$"
      ],
      "text/plain": [
       "<IPython.core.display.Math object>"
      ]
     },
     "metadata": {},
     "output_type": "display_data"
    },
    {
     "data": {
      "text/latex": [
       "$$\\delta c_{1144} = 0$$"
      ],
      "text/plain": [
       "<IPython.core.display.Math object>"
      ]
     },
     "metadata": {},
     "output_type": "display_data"
    },
    {
     "data": {
      "text/latex": [
       "$$\\delta c_{1155} = 0$$"
      ],
      "text/plain": [
       "<IPython.core.display.Math object>"
      ]
     },
     "metadata": {},
     "output_type": "display_data"
    },
    {
     "data": {
      "text/latex": [
       "$$\\delta c_{1244} = 0$$"
      ],
      "text/plain": [
       "<IPython.core.display.Math object>"
      ]
     },
     "metadata": {},
     "output_type": "display_data"
    },
    {
     "data": {
      "text/latex": [
       "$$\\delta c_{1266} = 0$$"
      ],
      "text/plain": [
       "<IPython.core.display.Math object>"
      ]
     },
     "metadata": {},
     "output_type": "display_data"
    },
    {
     "data": {
      "text/latex": [
       "$$\\delta c_{1456} = 0$$"
      ],
      "text/plain": [
       "<IPython.core.display.Math object>"
      ]
     },
     "metadata": {},
     "output_type": "display_data"
    },
    {
     "data": {
      "text/latex": [
       "$$\\delta c_{4444} = - \\frac{N \\Xi_u^{4} {F_{1/2}}'''}{81 F_{1/2} T^{3}} + \\frac{N \\Xi_u^{4} {F_{1/2}}''^{2}}{27 F_{1/2} T^{3} {F_{1/2}}'}$$"
      ],
      "text/plain": [
       "<IPython.core.display.Math object>"
      ]
     },
     "metadata": {},
     "output_type": "display_data"
    },
    {
     "name": "stdout",
     "output_type": "stream",
     "text": [
      "\\delta c_{4444} = - \\frac{N \\Xi_u^{4} {F_{1/2}}'''}{81 F_{1/2} T^{3}} + \\frac{N \\Xi_u^{4} {F_{1/2}}''^{2}}{27 F_{1/2} T^{3} {F_{1/2}}'}\n"
     ]
    },
    {
     "data": {
      "text/latex": [
       "$$\\delta c_{4455} = - \\frac{N \\Xi_u^{4} {F_{1/2}}'''}{81 F_{1/2} T^{3}} + \\frac{N \\Xi_u^{4} {F_{1/2}}''^{2}}{81 F_{1/2} T^{3} {F_{1/2}}'}$$"
      ],
      "text/plain": [
       "<IPython.core.display.Math object>"
      ]
     },
     "metadata": {},
     "output_type": "display_data"
    },
    {
     "name": "stdout",
     "output_type": "stream",
     "text": [
      "\\delta c_{4455} = - \\frac{N \\Xi_u^{4} {F_{1/2}}'''}{81 F_{1/2} T^{3}} + \\frac{N \\Xi_u^{4} {F_{1/2}}''^{2}}{81 F_{1/2} T^{3} {F_{1/2}}'}\n"
     ]
    }
   ],
   "source": [
    "def sum_wetas_etam(Xis, structure, eta_structure):\n",
    "    prod = 1\n",
    "    M = len(Xis)\n",
    "    for ns, ne in zip(structure, eta_structure):\n",
    "        sumi = 0\n",
    "        for i in range(M):\n",
    "            #sumi = sumi + (einsum('ij,ij', Xis[i], eta_t) + Ds*eta_minus[i]**2)**ns*eta_minus[i]**ne\n",
    "            sumi = sumi + (einsum('ij,ij', Xis[i], eta_t))**ns\n",
    "        prod = prod*sumi\n",
    "    return expand(prod)\n",
    "\n",
    "M = 4\n",
    "unit_vectors = np.array([[1,1,1], [-1,1,1], [1,-1, 1], [-1, -1, 1]])/sqrt(3)\n",
    "unitm = np.array([[1,0,0], [0,1,0], [0,0,1]])\n",
    "#unitm = Matrix(unit)\n",
    "\n",
    "Xis = []\n",
    "for a in unit_vectors:\n",
    "    #for j in [-1/sqrt(3), 1/sqrt(3)]:\n",
    "    a = np.reshape(a, (1,3))\n",
    "    #a[0,2] = j\n",
    "    at = np.reshape(a, (3,1))\n",
    "    Xis.append(sd*unitm + su*np.dot(at, a))\n",
    "\n",
    "\n",
    "Free1 = N*T*avg_wm(Xis, (1,), (0,))\n",
    "Free2 = -N*T/F0*(Rational(1,2)*F1*(avg_wm(Xis, (2,), (0,)) - avg_wm(Xis, (1,1), (0,0)) ))\n",
    "#Free2 = simplify(Free2)\n",
    "\n",
    "\n",
    "\n",
    "Free3 = N*T/F0*(Rational(1,6)*F2*(avg_wm(Xis, (3,),(0,)) - 3*avg_wm(Xis, (2,1),(0,0)) + \\\n",
    "                                  2*avg_wm(Xis, (1,1,1),(0,0,0))) )\n",
    "\n",
    "\n",
    "Free4_1 = Rational(1,24)*N*T*F3/F0*(-6*avg_wm(Xis, (2,1,1), (0,0,0)) + 4*avg_wm(Xis, (3,1),(0,0)) - avg_wm(Xis, (4,),(0,)) +\\\n",
    "                                    3*avg_wm(Xis, (1,1,1,1),(0,0,0,0)))\n",
    "Free4_2 = Rational(1,8)*N*T*F2**2/F0/F1*(avg_wm(Xis, (2,2),(0,0)) - 2*avg_wm(Xis, (2,1,1),(0,0,0)) + \\\n",
    "                                         avg_wm(Xis, (1,1,1,1), (0,0,0,0)) )\n",
    "\n",
    "Free4 = expand(Free4_1 + Free4_2)\n",
    "\n",
    "Free_all = expand(Free1 + Free2 + Free3 + Free4).subs({Ds: 0, Ds4: 0}) #no \\Xi_sh for Ge\n",
    "subs_dict = {eta1: eta1*x, eta2: eta2*x, eta3: eta3*x, eta4: eta4*x, eta5: eta5*x, eta6: eta6*x}\n",
    "Free_all_x = Free_all.subs(subs_dict)\n",
    "Free_xdict = collect(Free_all_x, x, evaluate=False)\n",
    "Free2 = Free_xdict[x**2]\n",
    "Free3 = Free_xdict[x**3]\n",
    "Free4 = Free_xdict[x**4]\n",
    "\n",
    "dc11 = simplify(diff(Free2, eta1, eta1))\n",
    "dc12 = simplify(diff(Free2, eta1, eta2))\n",
    "dc44 = simplify(diff(Free2, eta4, eta4))\n",
    "print \"Second order:\"\n",
    "show_math(dc11, '\\\\delta c_{11} = ')\n",
    "show_math(dc12, '\\\\delta c_{12} = ')\n",
    "show_math(dc44, '\\\\delta c_{44} = ')\n",
    "\n",
    "\n",
    "dc111 = diff(Free3, eta1, eta1, eta1)\n",
    "dc112 = diff(Free3, eta1, eta1, eta2)\n",
    "dc123 = diff(Free3, eta1, eta2, eta3)\n",
    "dc144 = diff(Free3, eta1, eta4, eta4)\n",
    "dc155 = diff(Free3, eta1, eta5, eta5)\n",
    "dc456 = diff(Free3, eta4, eta5, eta6)\n",
    "\n",
    "print \"Third order:\"\n",
    "show_math(dc111, '\\\\delta c_{111} = ')\n",
    "show_math(dc112, '\\\\delta c_{112} = ')\n",
    "show_math(dc123, '\\\\delta c_{123} = ')\n",
    "show_math(dc144, '\\\\delta c_{144} = ')\n",
    "show_math(dc155, '\\\\delta c_{155} = ')\n",
    "show_math(dc456, '\\\\delta c_{456} = ', prnt = True)\n",
    "\n",
    "\n",
    "\n",
    "dc1111 = expand(diff(Free4, eta1, eta1, eta1, eta1))\n",
    "dc1112 = expand(diff(Free4, eta1, eta1, eta1, eta2))\n",
    "dc1122 = expand(diff(Free4, eta1, eta1, eta2, eta2))\n",
    "dc1123 = expand(diff(Free4, eta1, eta1, eta2, eta3))\n",
    "dc1144 = expand(diff(Free4, eta1, eta1, eta4, eta4))\n",
    "dc1155 = expand(diff(Free4, eta1, eta1, eta5, eta5))\n",
    "dc1244 = expand(diff(Free4, eta1, eta2, eta4, eta4))\n",
    "dc1266 = expand(diff(Free4, eta1, eta2, eta6, eta6))\n",
    "dc1456 = expand(diff(Free4, eta1, eta4, eta5, eta6))\n",
    "dc4444 = expand(diff(Free4, eta4, eta4, eta4, eta4))\n",
    "dc4455 = expand(diff(Free4, eta4, eta4, eta5, eta5))\n",
    "print \"Fourth order:\"\n",
    "show_math(dc1111, '\\\\delta c_{1111} = ')\n",
    "show_math(dc1112, '\\\\delta c_{1112} = ')\n",
    "show_math(dc1122, '\\\\delta c_{1122} = ')\n",
    "show_math(dc1123, '\\\\delta c_{1123} = ')\n",
    "show_math(dc1144, '\\\\delta c_{1144} = ')\n",
    "show_math(dc1155, '\\\\delta c_{1155} = ')\n",
    "show_math(dc1244, '\\\\delta c_{1244} = ')\n",
    "show_math(dc1266, '\\\\delta c_{1266} = ')\n",
    "show_math(dc1456, '\\\\delta c_{1456} = ')\n",
    "show_math(dc4444, '\\\\delta c_{4444} = ', prnt = True)\n",
    "show_math(dc4455, '\\\\delta c_{4455} = ', prnt = True)"
   ]
  },
  {
   "cell_type": "code",
   "execution_count": null,
   "metadata": {
    "collapsed": true
   },
   "outputs": [],
   "source": []
  },
  {
   "cell_type": "code",
   "execution_count": 3,
   "metadata": {
    "collapsed": false
   },
   "outputs": [
    {
     "name": "stdout",
     "output_type": "stream",
     "text": [
      "\\delta c_{11} &= 0\\\\\n",
      "\\delta c_{12} & = 0\\\\\n",
      "\\delta c_{44} & = - \\frac{N \\Xi_u^{2} {F_{1/2}}'}{9 F_{1/2} T}\\\\\n",
      "\\delta c_{111} & = 0\\\\\n",
      "\\delta c_{112} & = 0\\\\\n",
      "\\delta c_{123} & = 0\\\\\n",
      "\\delta c_{144} & = 0\\\\\n",
      "\\delta c_{155} & = 0\\\\\n",
      "\\delta c_{456} & = \\frac{N \\Xi_u^{3} {F_{1/2}}''}{27 F_{1/2} T^{2}}\\\\\n",
      "\\delta c_{1111} & = 0\\\\\n",
      "\\delta c_{1112} & = 0\\\\\n",
      "\\delta c_{1122} & = 0\\\\\n",
      "\\delta c_{1123} & = 0\\\\\n",
      "\\delta c_{1144} & = 0\\\\\n",
      "\\delta c_{1155} & = 0\\\\\n",
      "\\delta c_{1244} & = 0\\\\\n",
      "\\delta c_{1266} & = 0\\\\\n",
      "\\delta c_{1456} & = 0\\\\\n",
      "\\delta c_{4444} & = - \\frac{N \\Xi_u^{4} {F_{1/2}}'''}{81 F_{1/2} T^{3}} + \\frac{N \\Xi_u^{4} {F_{1/2}}''^{2}}{27 F_{1/2} T^{3} {F_{1/2}}'}\\\\\n",
      "\\delta c_{4455} & = - \\frac{N \\Xi_u^{4} {F_{1/2}}'''}{81 F_{1/2} T^{3}} + \\frac{N \\Xi_u^{4} {F_{1/2}}''^{2}}{81 F_{1/2} T^{3} {F_{1/2}}'}\n"
     ]
    }
   ],
   "source": [
    "print '\\delta c_{{11}} &= {}'.format(latex(dc11)) + '\\\\\\\\'\n",
    "print '\\delta c_{{12}} & = {}'.format(latex(dc12)) + '\\\\\\\\'\n",
    "print '\\delta c_{{44}} & = {}'.format(latex(dc44)) + '\\\\\\\\'\n",
    "print '\\delta c_{{111}} & = {}'.format(latex(dc111)) + '\\\\\\\\'\n",
    "print '\\delta c_{{112}} & = {}'.format(latex(dc112)) + '\\\\\\\\'\n",
    "print '\\delta c_{{123}} & = {}'.format(latex(dc123)) + '\\\\\\\\'\n",
    "print '\\delta c_{{144}} & = {}'.format(latex(dc144)) + '\\\\\\\\'\n",
    "print '\\delta c_{{155}} & = {}'.format(latex(dc155)) + '\\\\\\\\'\n",
    "print '\\delta c_{{456}} & = {}'.format(latex(dc456)) + '\\\\\\\\'\n",
    "print '\\delta c_{{1111}} & = {}'.format(latex(dc1111)) + '\\\\\\\\'\n",
    "print '\\delta c_{{1112}} & = {}'.format(latex(dc1112)) + '\\\\\\\\'\n",
    "print '\\delta c_{{1122}} & = {}'.format(latex(dc1122)) + '\\\\\\\\'\n",
    "print '\\delta c_{{1123}} & = {}'.format(latex(dc1123)) + '\\\\\\\\'\n",
    "print '\\delta c_{{1144}} & = {}'.format(latex(dc1144)) + '\\\\\\\\'\n",
    "print '\\delta c_{{1155}} & = {}'.format(latex(dc1155)) + '\\\\\\\\'\n",
    "print '\\delta c_{{1244}} & = {}'.format(latex(dc1244)) + '\\\\\\\\'\n",
    "print '\\delta c_{{1266}} & = {}'.format(latex(dc1266)) + '\\\\\\\\'\n",
    "print '\\delta c_{{1456}} & = {}'.format(latex(dc1456)) + '\\\\\\\\'\n",
    "print '\\delta c_{{4444}} & = {}'.format(latex(dc4444)) + '\\\\\\\\'\n",
    "print '\\delta c_{{4455}} & = {}'.format(latex(dc4455))"
   ]
  }
 ],
 "metadata": {
  "anaconda-cloud": {},
  "kernelspec": {
   "display_name": "Python [default]",
   "language": "python",
   "name": "python2"
  },
  "language_info": {
   "codemirror_mode": {
    "name": "ipython",
    "version": 2
   },
   "file_extension": ".py",
   "mimetype": "text/x-python",
   "name": "python",
   "nbconvert_exporter": "python",
   "pygments_lexer": "ipython2",
   "version": "2.7.12"
  }
 },
 "nbformat": 4,
 "nbformat_minor": 0
}
