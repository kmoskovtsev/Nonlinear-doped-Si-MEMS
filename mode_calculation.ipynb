{
 "cells": [
  {
   "cell_type": "markdown",
   "metadata": {},
   "source": [
    "# Intro:\n",
    "This code calculates nonlinear frequency shift for Extension and Lame\n",
    "modes of a silicon bulk resonator. It takes into account only intervalley redistribution as fist described by Keyes (1967).\n",
    "\n",
    "In short:\n",
    "1. It takes analytic expressions for $\\delta c_{ijkl}$ calculated in another file\n",
    "    'c_ijm through F calculation.v3.ipynb'\n",
    "2. This code includes known $c_{ij}$, $c_{ijk}$ for pure Si\n",
    "3. It calculates analytical and/or numeric expression for elastic free energy of a mode $F = Q^2 U_2 + Q^3 U_3 + Q^4 U_4$\n",
    "    using linear and nonlinear elastic consts for doped Si.\n",
    "4. Using the expression for $F$, evaluate $\\delta \\omega^{(2)}(A)$ as described in the paper. $\\delta \\omega^{(2)}(A)$ can be calculated\n",
    "    as a function of concentration or temperature. Both analytical and numerical values for $\\delta \\omega^{(2)}(A)$ can be calculated.\n",
    "    \n",
    "In the code, I used slightly different normalization, than that described in the paper. So some conversion is necessary (and is done below when needed). CGS units are used. Values for main parameters, like $\\Xi_u$, $m$, $\\Xi_{u'}$ are defined at the end of the 'Definitions' cell.\n",
    "\n",
    "### How to use it:\n",
    "First, run 'Definitions'. Then run the cells below one by one, depending on what you want to do. To use any \"plot\" cell, you should first run a cell above that calculates the data points that you want to plot.\n",
    "\n",
    "You can ask questions via moskovts --at-- msu.edu\n",
    "\n",
    "### License (MIT)\n",
    "Copyright (c) 2016 Kirill Moskovtsev\n",
    "\n",
    "Permission is hereby granted, free of charge, to any person obtaining a copy of this software and associated documentation files (the \"Software\"), to deal in the Software without restriction, including without limitation the rights to use, copy, modify, merge, publish, distribute, sublicense, and/or sell copies of the Software, and to permit persons to whom the Software is furnished to do so, subject to the following conditions:\n",
    "\n",
    "The above copyright notice and this permission notice shall be included in all copies or substantial portions of the Software.\n",
    "\n",
    "THE SOFTWARE IS PROVIDED \"AS IS\", WITHOUT WARRANTY OF ANY KIND, EXPRESS OR IMPLIED, INCLUDING BUT NOT LIMITED TO THE WARRANTIES OF MERCHANTABILITY, FITNESS FOR A PARTICULAR PURPOSE AND NONINFRINGEMENT. IN NO EVENT SHALL THE AUTHORS OR COPYRIGHT HOLDERS BE LIABLE FOR ANY CLAIM, DAMAGES OR OTHER LIABILITY, WHETHER IN AN ACTION OF CONTRACT, TORT OR OTHERWISE, ARISING FROM, OUT OF OR IN CONNECTION WITH THE SOFTWARE OR THE USE OR OTHER DEALINGS IN THE SOFTWARE."
   ]
  },
  {
   "cell_type": "markdown",
   "metadata": {},
   "source": [
    "# Definitions"
   ]
  },
  {
   "cell_type": "code",
   "execution_count": 3,
   "metadata": {
    "collapsed": false
   },
   "outputs": [],
   "source": [
    "'''Python version 2.7'''\n",
    "\n",
    "%matplotlib inline\n",
    "from sympy import *\n",
    "from sympy import integrate as sympy_integrate\n",
    "import numpy as np\n",
    "from itertools import combinations_with_replacement, permutations\n",
    "import fdint\n",
    "from matplotlib import pyplot as plt\n",
    "import pickle\n",
    "from scipy.optimize import minimize\n",
    "import scipy.integrate as integrate\n",
    "from IPython.display import Math, display\n",
    "import copy as cp\n",
    "\n",
    "def show_math(x, s = '', prnt = False):\n",
    "    display(Math(s + latex(x)))\n",
    "    if prnt:\n",
    "        print s + latex(x)\n",
    "\n",
    "def R(i,j):\n",
    "    return Rational(i,j)\n",
    "\n",
    "def einsum(string, *args):\n",
    "    '''\n",
    "    Analog of np.einsum which works for 'object' data,\n",
    "    not only numbers\n",
    "    '''\n",
    "    index_groups = map(list, string.split(','))\n",
    "    assert len(index_groups) == len(args)\n",
    "    tensor_indices_tuples = zip(index_groups, args)\n",
    "    return reduce(einsum_for_two, tensor_indices_tuples)[1]\n",
    "\n",
    "def einsum_for_two(tensor_indices1, tensor_indices2):\n",
    "    '''\n",
    "    component of einsum\n",
    "    '''\n",
    "    string1, tensor1 = tensor_indices1\n",
    "    string2, tensor2 = tensor_indices2\n",
    "    sum_over_indices = set(string1).intersection(set(string2))\n",
    "    new_string = string1 + string2\n",
    "    axes = ([], [])\n",
    "    for i in sum_over_indices:\n",
    "        new_string.remove(i)\n",
    "        new_string.remove(i)\n",
    "        axes[0].append(string1.index(i))\n",
    "        axes[1].append(string2.index(i))\n",
    "    return new_string, np.tensordot(tensor1, tensor2, axes)\n",
    "\n",
    "\n",
    "def c_elements(doping, Tempr, numeric, poly_si = 'single'):\n",
    "    '''\n",
    "    Calculate entries for elastic tensors\n",
    "    [[(i,j,...), ..., (k,l,..), value], .....]\n",
    "    Either symbolic or numeric.\n",
    "    '''\n",
    "    if numeric:\n",
    "        dcn = dcn_calc(doping, Tempr, poly_si)\n",
    "        c = c_el_calc(dcn, Tempr, poly_si)\n",
    "    else:\n",
    "        c = {c11:c11, c12:c12, c44:c44, c111:c111, c112:c112, c123:c123, c144:c144, \\\n",
    "            c155:c155, c456:c456, c1111:c1111, c1112:c1112, c1122:c1122, c1123:c1123, \\\n",
    "             c1144:c1144,\\\n",
    "            c1155:c1155, c1244:c1244, c1266:c1266, c1456:c1456, c4444:c4444, c4455:c4455}\n",
    "        if poly_si == 'isolated_gr':\n",
    "            c = poly_average(c)\n",
    "    elements_2d = [[(1,1), (2,2), (3,3), c[c11]], \\\n",
    "                       [(1,2), (1,3), (2,3), c[c12]],\\\n",
    "                       [(4,4), (5,5), (6,6), c[c44]]]\n",
    "\n",
    "\n",
    "    #not doped\n",
    "    elements_3d = [[(1,1,1), (2,2,2), (3,3,3), c[c111]],\\\n",
    "                    [(1,1,2), (1,1,3), (1,2,2), (1,3,3), (2,2,3), (2,3,3), c[c112]],\\\n",
    "                    [(1,2,3), c[c123]],\\\n",
    "                    [(1,4,4), (2,5,5), (3,6,6), c[c144]],\\\n",
    "                    [(1,5,5), (1,6,6), (2,4,4), (2,6,6), (3,4,4), (3,5,5), c[c155]],\\\n",
    "                    [(4,5,6), c[c456]]]\n",
    "\n",
    "\n",
    "    elements_4d = [[(1,1,1,1), (2,2,2,2), (3,3,3,3), c[c1111]],\\\n",
    "                       [(1,1,1,2), (1,1,1,3), (1,2,2,2), (1,3,3,3), (2,2,2,3), (2,3,3,3),\\\n",
    "                        c[c1112]],\\\n",
    "                       [(1,1,2,2), (1,1,3,3), (2,2,3,3), c[c1122]],\\\n",
    "                       [(1,1,2,3), (1,2,2,3), (1,2,3,3), c[c1123]],\\\n",
    "                       [(1,1,4,4), (2,2,5,5), (3,3,6,6), c[c1144]],\\\n",
    "                       [(1,1,5,5), (1,1,6,6), (2,2,4,4), (2,2,6,6), (3,3,4,4), (3,3,5,5),\\\n",
    "                        c[c1155]],\\\n",
    "                       [(1,2,4,4), (1,2,5,5), (1,3,4,4), (1,3,6,6), (2,3,5,5), (2,3,6,6),\\\n",
    "                        c[c1244]],\\\n",
    "                       [(1,2,6,6), (1,3,5,5), (2,3,4,4), c[c1266]],\\\n",
    "                       [(1,4,5,6), (2,4,5,6), (3,4,5,6), c[c1456]],\\\n",
    "                       [(4,4,4,4), (5,5,5,5), (6,6,6,6), c[c4444]],\\\n",
    "                       [(4,4,5,5), (4,4,6,6), (5,5,6,6), c[c4455]]]\n",
    "    return elements_2d, elements_3d, elements_4d\n",
    "\n",
    "\n",
    "def poly_average(c):\n",
    "    '''Read c-dictionary for iso-grain poly_si from file,\n",
    "    and substitute given c-values (numeric or symbolic) into it.\n",
    "    The file is prepared in c_ijm_through_F_calculation.ipynb'''\n",
    "    \n",
    "    ff = open('./poly_expressions/poly_c_dict.dat', 'r')\n",
    "    c_poly_dict = pickle.load(ff)\n",
    "    ff.close()\n",
    "    c_poly = {key: c_poly_dict[key].subs(c) for key in c_poly_dict.keys()}\n",
    "    return c_poly\n",
    "\n",
    "def construct_tensor(elements, numeric):\n",
    "    '''\n",
    "    Takes the result of c_elements(), and creates a full tensor out of them.\n",
    "    For each element (i,j,...) it makes all possible permutations and fills them with\n",
    "    the right value.\n",
    "    '''\n",
    "    dim = len(elements[0][0])\n",
    "    if numeric:\n",
    "        tensor = np.zeros(tuple([6]*dim))\n",
    "    else:\n",
    "        tensor = np.zeros(tuple([6]*dim), dtype=object)\n",
    "    for family in elements:\n",
    "        val = family[-1]\n",
    "        for el in family[0:-1]:\n",
    "            perms = set(permutations(el))\n",
    "            for p in perms:\n",
    "                tensor[tuple(np.array(p) - np.array([1]*dim))] = val\n",
    "    return tensor\n",
    "\n",
    "\n",
    "def rotate_tensor(c, alpha, numeric):\n",
    "    '''\n",
    "    Transform tensor c (6*6*...) when rotating the coordinates by alpha rad around Z axis.\n",
    "    '''\n",
    "    #Transformation matrix to transform C tensor: Ai = A.inv.transpose\n",
    "    if numeric:\n",
    "        atype = float\n",
    "        eins = np.einsum\n",
    "    else:\n",
    "        atype = object\n",
    "        eins = einsum\n",
    "    Ai = np.array([[cos(alpha)**2, sin(alpha)**2,  0,  0,  0, -2*cos(alpha)*sin(alpha)],\\\n",
    "                  [sin(alpha)**2, cos(alpha)**2,  0,  0,  0,  2*cos(alpha)*sin(alpha)],\\\n",
    "                  [0,    0,   1,  0,  0, 0],\\\n",
    "                  [0,    0,   0,  cos(alpha),   sin(alpha), 0],\\\n",
    "                  [0,    0,   0,  -sin(alpha),   cos(alpha), 0],\\\n",
    "                  [cos(alpha)*sin(alpha),    -cos(alpha)*sin(alpha), 0,  0,  \\\n",
    "                   0, cos(alpha)**2 - sin(alpha)**2]], dtype=atype)\n",
    "    dimc = len(c.shape)\n",
    "    \n",
    "    if dimc == 2:\n",
    "        c_rotated = eins(\"ij,kl,jl\", Ai, Ai, c)\n",
    "    elif dimc == 3:\n",
    "        c_rotated = eins(\"ij,kl,rs,jls\", Ai, Ai, Ai, c)\n",
    "    elif dimc == 4:\n",
    "        c_rotated = eins(\"ij,kl,rs,pq,jlsq\", Ai, Ai, Ai, Ai, c)\n",
    "    else:\n",
    "        print \"In Rotate_Tensor: Wrong tensor dimension!\"\n",
    "        c_rotated = None\n",
    "    return c_rotated\n",
    "\n",
    "\n",
    "\n",
    "def evaluate_coeff(x, doping, Tempr, omega_0n, (lxn, lyn, lzn), alpha_, d0_, Vb_, poly_si):\n",
    "    '''\n",
    "    Evaluate numerically the final result for omega^(2) correction\n",
    "    '''\n",
    "    dcn = dcn_calc(doping, Tempr, poly_si)\n",
    "    subx = c_el_calc(dcn, Tempr, poly_si)\n",
    "    subx[omega_0] = omega_0n\n",
    "    subx.update({lx: lxn, ly: lyn, lz: lzn, alpha:alpha_, d0:d0_, Vb:(Vb_/299.) })\n",
    "    #recalculate Vb from Volts to statV\n",
    "    return x.evalf(subs = subx)\n",
    "\n",
    "\n",
    "    \n",
    "def fermihalf(x,sgn):\n",
    "    \"\"\" Series approximation to the F_{1/2}(x) or F_{-1/2}(x) \n",
    "        Fermi-Dirac integral \"\"\"\n",
    "\n",
    "    f = lambda k: np.sqrt(x**2+np.pi**2*(2*k-1)**2)\n",
    "\n",
    "\n",
    "    if sgn>0: # F_{1/2}(x)\n",
    "        a = np.array((1.0/770751818298,-1.0/3574503105,-13.0/184757992,\n",
    "              85.0/3603084,3923.0/220484,74141.0/8289,-5990294.0/7995))\n",
    "        g = lambda k:np.sqrt(f(k)-x)\n",
    "\n",
    "    else:  # F_{-1/2}(x)\n",
    "        a = np.array((-1.0/128458636383,-1.0/714900621,-1.0/3553038,\n",
    "                      27.0/381503,3923.0/110242,8220.0/919))\n",
    "        g = lambda k:-0.5*np.sqrt(f(k)-x)/f(k)\n",
    "\n",
    "    F = np.polyval(a,x) + 2*np.sqrt(2*np.pi)*sum(map(g,range(1,21)))\n",
    "    return F\n",
    "\n",
    "    \n",
    "def dcn_calc(N_, Tempr, poly_si):\n",
    "    '''\n",
    "    Calculate numerical values for corrections delta_C_{ij...}\n",
    "    '''\n",
    "    \n",
    "    T_ = Tempr*1.38/10**16      # erg = K*(erg/K)  'Tempr' in K\n",
    "    Xi_u_ = params['Xiu']/(6.2415*10**11) #params is a global variable\n",
    "    # erg = eV/(eV/erg) , Xi_u (Laude, Hall); 9.6 according to http://www.thompson.ece.ufl.edu/\n",
    "                                #Fall2008/ApplPhysLett_89_073509-deformation.pdf\n",
    "                                #Hall 1967: 8.6;\n",
    "                                #Balslev, 1966: 8.6 at 70K, 9.2 at 295K\n",
    "    Xi_d_ = 1.0/(6.2415*10**11)  #NOT USED# erg = eV/(eV/erg) VALUE NOT VERIFIED (Samuelsen 1971, \n",
    "    #Cercignani kinetics)\n",
    "    hbar = 1.0545/10**27        # erg*s\n",
    "    XiuP = params['Xiup'] # eV\n",
    "    DeltaD0 = params['DeltaD0'] # eV\n",
    "    \n",
    "    J_ = 2.5*(2*XiuP/DeltaD0)**2\n",
    "    K_ = -6.6*(2*XiuP/DeltaD0)**4    \n",
    "    Xi_s2_ = -4*XiuP**2/DeltaD0/(6.2415*10**11)\n",
    "    # \\Xi3/DeltaE =11.4 from Hensel, DeltaE=0.8 from Laude, Ds = 4\\Xi^2/DeltaE\n",
    "    #Xi_s4_ = 16*XiuP**4/DeltaD0**3/(6.2415*10**11) # \n",
    "    Xi_s4_ = 0 # We don't care about fourth-order shift in the paper\n",
    "    theta_0 = find_theta_0(N_, T_)   # dimensionless\n",
    "\n",
    "    F0_ = fdint.fdk(0.5, theta_0)\n",
    "    F32_ = fdint.fdk(1.5, theta_0)\n",
    "    F1_ = derivative(fdint.fdk, theta_0, 0.05)\n",
    "    F2_ = double_der(fdint.fdk, theta_0, 0.05)\n",
    "    F3_ = triple_der(fdint.fdk, theta_0, 0.05)\n",
    "\n",
    "    subs_list = [(N, N_), (T, T_), (Xi_u, Xi_u_), (Xi_d, Xi_d_), (F0, F0_), (F1, F1_), \\\n",
    "                 (F2, F2_), (F3, F3_), (F32, F32_), (J, J_), (K, K_),\\\n",
    "                 (theta_0s, theta_0), (Xi_s2, Xi_s2_), (Xi_s4, Xi_s4_)]\n",
    "    #Choose the delta_c expressions for single- or poly-crystal (read them from files at the end of this cell)\n",
    "    if poly_si == 'single':\n",
    "        dc_dict = single_dc #global\n",
    "    elif poly_si == 'connected_gr':\n",
    "        dc_dict = conn_gr_dc\n",
    "    elif poly_si == 'isolated_gr':\n",
    "        dc_dict = poly_average(single_dc)\n",
    "    # Calculate delta_c with the parameters specified above\n",
    "    dcn_dict = {key: float(dc_dict[key].subs(subs_list)/10**12) for key in dc_dict.keys()}\n",
    "    # dcn = delta_c_numeric\n",
    "    \n",
    "    return dcn_dict\n",
    "\n",
    "\n",
    "def find_theta_0(N, T):\n",
    "    \"\"\"Find (chemical potential)/T for undistorted lattice.\n",
    "    N in cm^(-3), T in erg\"\"\"\n",
    "    res = minimize(delta_electron_density, np.array([1.]), args=(N,T), method='Nelder-Mead', tol=10**(-8))\n",
    "    return res.x\n",
    "\n",
    "def delta_electron_density(theta, N, T):    \n",
    "    \"\"\"This function is used to calculate \\theta_0 in undistorted crystal.\n",
    "    \"\"\"\n",
    "    m = params['m'] #g\n",
    "    hbar = 1.05/10**27        # erg*s\n",
    "    return np.abs(6*2**(0.5)*(m*T)**1.5/hbar**3/np.pi**2*fdint.fdk(0.5, theta) - N)/10**15\n",
    "    \n",
    "def derivative(f, x, step):\n",
    "    '''Simple derivative of function f at point x'''\n",
    "    return (f(0.5, x + step/2.) - f(0.5, x - step/2.))/step\n",
    "\n",
    "def double_der(f, x, step):\n",
    "    '''Double derivative of function f at point x'''\n",
    "    return (f(0.5, x+step) + f(0.5, x-step) - 2*f(0.5, x))/step**2\n",
    "\n",
    "def triple_der(f, x, step):\n",
    "    '''Triple derivative of function f at point x'''\n",
    "    return (f(0.5, x + 1.5*step) - f(0.5, x - 1.5*step) - 3.*f(0.5, x + 0.5*step) +\\\n",
    "            3.*f(0.5, x - 0.5*step))/step**3\n",
    "\n",
    "def cij(T):\n",
    "    '''Returns c-tensors values for pure Si.\n",
    "    The temperature dependence of c_ij as described by Varshni, 1970.\n",
    "    Fourth order constants are assumed 0 since there are no better estimates.'''\n",
    "    \n",
    "    cij0 = 16.75018\n",
    "    s = 0.53297\n",
    "    t = 407\n",
    "    c11_ =  (cij0 - s/(np.exp(t/T) - 1))/10.\n",
    "    \n",
    "    cij0 = 6.50079\n",
    "    s = 0.231036\n",
    "    t = 334.8\n",
    "    c12_ =  (cij0 - s/(np.exp(t/T) - 1))/10.\n",
    "\n",
    "    cij0 = 8.00735\n",
    "    s = 0.224966\n",
    "    t = 497.4\n",
    "    c44_ =  (cij0 - s/(np.exp(t/T) - 1))/10.\n",
    "    if pure_nonlinear_c: #global parameter, set at the end of this cell. If True, set c_ijk !=0\n",
    "        return {c11:c11_, c12:c12_, c44:c44_, c111:-7.95, c112:-4.45, c123:-0.75, c144:0.15, \\\n",
    "                c155:-3.1, c456:-0.86, c1111:0, c1112:0, c1122:0, c1123:0, c1144:0,\\\n",
    "                c1155:0, c1244:0, c1266:0, c1456:0, c4444:0, c4455:0}\n",
    "    else:\n",
    "        return {c11:c11_, c12:c12_, c44:c44_, c111: 0, c112:0, c123:0, c144:0, \\\n",
    "                c155:0, c456:0, c1111:0, c1112:0, c1122:0, c1123:0, c1144:0,\\\n",
    "                c1155:0, c1244:0, c1266:0, c1456:0, c4444:0, c4455:0}\n",
    "\n",
    "\n",
    "def c_el_calc(dcn, T_, poly_si):\n",
    "    '''\n",
    "    Evaluate numerically independent elements C_{ijk...}\n",
    "    Pure value + electronic correction.\n",
    "    Output: dictionary that is ready to be fed into .evalf() function.\n",
    "    '''\n",
    "    c_pure_single = cij(T_)\n",
    "    if poly_si != 'single':\n",
    "        c_pure_poly = poly_average(c_pure_single)\n",
    "        total_c_dict = {key: c_pure_poly[key] + dcn[key] for key in dcn.keys()}\n",
    "    else:\n",
    "        total_c_dict = {key: c_pure_single[key] + dcn[key] for key in dcn.keys()}  \n",
    "    return total_c_dict\n",
    "\n",
    "\n",
    "\n",
    "def U_terms(mode, doping, Tempr, alpha, numeric, poly_si):\n",
    "    '''\n",
    "    Returns total elastic energy U = Q^2*U2 + Q^3*U3 + Q^4*U4\n",
    "    in analytic or numeric (for U_i) form. Then I store those expressions in external <U_<mode>_<dir>.dat> files.\n",
    "    Then I use the expressions from the files, w/o recalculating every time.\n",
    "    (integrated over the volume of the resonator)\n",
    "    Actually, in numeric mode, they are recalculated every time.\n",
    "    poly_si can be 'single', 'isolated_gr', 'connected_gr'\n",
    "    '''\n",
    "    elements_2d, elements_3d, elements_4d = c_elements(doping, Tempr, numeric, poly_si)\n",
    "    #2d, 3d, 4d stand for c_ij, c_ijk, c_ijkl\n",
    "    c_2d = rotate_tensor(construct_tensor(elements_2d, numeric), alpha, numeric)\n",
    "    c_3d = rotate_tensor(construct_tensor(elements_3d, numeric), alpha, numeric)\n",
    "    c_4d = rotate_tensor(construct_tensor(elements_4d, numeric), alpha, numeric)\n",
    "    nu2s = -( -(c_2d[0,1] + c_2d[0,5]**2/c_2d[5,5])*c_2d[2,2] + c_2d[0,2]**2)/\\\n",
    "    ((c_2d[0,0] - c_2d[0,5]**2/c_2d[5,5])*c_2d[2,2] - c_2d[0,2]**2)\n",
    "    nu3s = -c_2d[0,2]*(c_2d[0,1] - c_2d[0,0] + 2*c_2d[0,5]**2/c_2d[5,5])/\\\n",
    "    ((c_2d[0,0] - c_2d[0,5]**2/c_2d[5,5])*c_2d[2,2] - c_2d[0,2]**2)\n",
    "\n",
    "    \n",
    "    eta = np.array([0, 0, 0, 0, 0, 0], dtype = object)\n",
    "    if mode == 'Extension':\n",
    "        eta[0] = Q*sin(pi*x/lx)\n",
    "        eta[1] = -nu2*Q*sin(pi*x/lx)\n",
    "        eta[2] = -nu3*Q*sin(pi*x/lx)\n",
    "    elif mode == 'Lame':\n",
    "        beta = pi/lx\n",
    "        eta[0] = -Q*sin(beta*x)*sin(beta*y)# + Q**2/2*((sin(beta*x)*sin(beta*y))**2 +\\\n",
    "                                           #          (cos(beta*x)*cos(beta*y))**2)\n",
    "        eta[1] = Q*sin(beta*x)*sin(beta*y)# + Q**2/2*((sin(beta*x)*sin(beta*y))**2 + \\\n",
    "                                          #           (cos(beta*x)*cos(beta*y))**2)\n",
    "    sum_2d = einsum('ij,i,j', c_2d, eta, eta).reshape((1,))[0] \n",
    "    sum_3d = einsum('ijk,i,j,k', c_3d, eta, eta, eta).reshape((1,))[0]\n",
    "    sum_4d = einsum('ijkl,i,j,k,l', c_4d, eta, eta, eta, eta).reshape((1,))[0]\n",
    "    if numeric:\n",
    "        sum_tot = collect(expand(sum_2d/2 + sum_3d/6 + sum_4d/24), Q).subs({nu2:nu2s, nu3:nu3s})\n",
    "    else:\n",
    "        sum_tot = collect(expand(sum_2d/2 + sum_3d/6 + sum_4d/24), Q)\n",
    "    sum_tot = get_terms_to_third_Q(sum_tot)    #Take only Q^2, Q^3, Q^4 terms\n",
    "    sum_tot_int = sympy_integrate(sum_tot, (z, 0, lz))\n",
    "    if mode == 'Extension':\n",
    "        sum_tot_int = sympy_integrate(expand(sum_tot_int), (y, 0, ly))\n",
    "        subs_table1 = {sin(pi*x/lx): sin(pi*x), cos(pi*x/lx): cos(pi*x)}\n",
    "        sum_tot_int = lx*sum_tot_int.subs(subs_table1)\n",
    "        #return sum_tot_int\n",
    "        sum_tot_int = collect(expand(sum_tot_int.subs((sin(pi*x))**2, 1-(cos(pi*x))**2)),\\\n",
    "                              cos(pi*x))\n",
    "        sum_tot_int = sympy_integrate(collect(sum_tot_int, cos(pi*x)), (x, 0, 1)) \n",
    "        #integrated over the volume\n",
    "    if mode == 'Lame' or mode == 'Lame_110m':\n",
    "        subs_table2 = {sin(pi*x/lx): sin(pi*x), cos(pi*x/lx): cos(pi*x),\\\n",
    "                      sin(pi*y/lx): sin(pi*y), cos(pi*y/lx): cos(pi*y)}\n",
    "        sum_tot_int = lx**2*sum_tot_int.subs(subs_table2)\n",
    "        sum_tot_int = collect(expand(sum_tot_int.subs((sin(pi*y))**2, 1-(cos(pi*y))**2)),\\\n",
    "                              cos(pi*y))\n",
    "        sum_tot_int = sympy_integrate(sum_tot_int, (y, 0, 1))\n",
    "        sum_tot_int = collect(expand(sum_tot_int.subs((sin(pi*x))**2, 1-(cos(pi*x))**2)),\\\n",
    "                              cos(pi*x))\n",
    "        sum_tot_int = sympy_integrate(sum_tot_int, (x, 0, 1))\n",
    "    print \"integration done\"\n",
    "    sum_tot_int += electrostatic_energy(mode)/10**12\n",
    "    sum_tot_int = collect(expand(sum_tot_int), Q)\n",
    "    U = sum_tot_int\n",
    "    return U\n",
    "        \n",
    "    \n",
    "def electrostatic_energy(mode):\n",
    "    '''\n",
    "    Electrostatic energy in erg (retruns symbolic expression).\n",
    "    Used to calculate electrostatic nonlinearity and f-correction\n",
    "    due to bias voltage V_b.\n",
    "    '''\n",
    "    if mode == 'Extension':\n",
    "        F = -lz*ly*Vb**2/d0*(1 + (Q*lx/pi/d0) + (Q*lx/pi/d0)**2 +\\\n",
    "                           (Q*lx/pi/d0)**3 + (Q*lx/pi/d0)**4)\n",
    "    elif mode == 'Lame':\n",
    "        F = -lz*ly*Vb**2/d0*(2 + (Q*lx/pi/d0)**2 + Rational(3,4)*(Q*lx/pi/d0)**4)\n",
    "    else:\n",
    "        print 'Mode should be either \"Lame\" or \"Extension\"'\n",
    "        F = None\n",
    "    return F\n",
    "    \n",
    "    \n",
    "def get_terms_to_third_Q(expr):\n",
    "    expr1 = collect(expand(expr), Q, evaluate=False)\n",
    "    res_dict = {}\n",
    "    for i in [2, 3, 4]:\n",
    "        try:\n",
    "            res_dict[Q**i] = expr1[Q**i]\n",
    "        except:\n",
    "            res_dict[Q**i] = 0\n",
    "    res = 0\n",
    "    for i in [2, 3, 4]:\n",
    "        res = res + res_dict[Q**i]*Q**i\n",
    "    return res\n",
    "  \n",
    "def omega_corr(mode, direction, doping, Tempr, numeric, poly_si):\n",
    "    '''symbolic or numerical expression for coeff in the formula omega^(2) = coeff*a^2\n",
    "    omega^(2) is the Duffing frequency shift.\n",
    "    '''\n",
    "    if numeric: #calculate numerically from scratch\n",
    "        alph = direction_to_alpha(direction)\n",
    "        U = U_terms(mode, doping, Tempr, alph, numeric, poly_si)\n",
    "    else: #read symbolic expressions for elastic energy (in terms of C-tensors) from file\n",
    "        if poly_si == 'connected_gr':\n",
    "            poly_word = '_poly_connected_gr'\n",
    "        elif poly_si == 'isolated_gr':\n",
    "            poly_word = '_poly_isolated_gr'\n",
    "        else:\n",
    "            poly_word = ''\n",
    "        try:\n",
    "            print 'U_' + mode + '_' + str(direction) + poly_word +'.dat'\n",
    "            ff = open('U_' + mode + '_' + str(direction) + poly_word +'.dat', 'r')\n",
    "            U = pickle.load(ff)\n",
    "            ff.close()\n",
    "        except:\n",
    "            print 'U input file must be \"U_<mode>_<direction>.dat\"'\n",
    "            print '\"direction\" must be either 0 or \"pi#\", where # is integer.'\n",
    "            print 'Allowed modes: \"Extension\" and \"Lame\"'\n",
    "    A_dict = collect(U, Q, evaluate = False)\n",
    "    U_dict = {}\n",
    "    for i in [2, 3, 4]:\n",
    "        try:\n",
    "            U_dict[Q**i] = i*A_dict[Q**i] # Why multiply by i?\n",
    "            #Because in the formula for omega_2 I used this form\n",
    "        except:\n",
    "            U_dict[Q**i] = 0\n",
    "    #\\omega^(2) = omega_2*a^2:\n",
    "    #Q is dimensionless, see notes. a is the amplitude of Q.\n",
    "    omega_2 = (3*U_dict[Q**4]/(8*U_dict[Q**2]) - 5*U_dict[Q**3]**2/(12*U_dict[Q**2]**2))*omega_0\n",
    "    return omega_2\n",
    "\n",
    "def linear_frequency(mode, direction, Tempr, doping, l, poly_si):\n",
    "    '''Function to calculate linear frequency.\n",
    "    Direction should be given in the form pi#.\n",
    "    T and N must be floats'''\n",
    "    lx, ly, lz = l\n",
    "    rho0 = 2.32 # g/cm^3\n",
    "    elements_2d, elements_3d, elements_4d = c_elements(doping, Tempr, numeric = True, poly_si = poly_si)\n",
    "    alpha = direction_to_alpha(direction)\n",
    "    c = rotate_tensor(construct_tensor(elements_2d, numeric=True), alpha, numeric = True)\n",
    "    if mode == 'Extension':\n",
    "        E_num = c[2,2]*(c[0,0]**2 - c[0,1]**2 - 2*c[0,5]**2/c[5,5]*(c[0,0] + c[0,1])) + \\\n",
    "        2*c[0,2]**2*(c[0,1] - c[0,0] + 2*c[0,5]**2/c[5,5])\n",
    "        E_den = (c[0,0] - c[0,5]**2/c[5,5])*c[2,2] - c[0,2]**2\n",
    "        E = E_num/E_den*10**(12)\n",
    "        f = 1/(2*lx)*np.sqrt(E/rho0)*(1 + 0.5*expansion_beta(Tempr))\n",
    "    if mode == 'Lame':\n",
    "        f = 1/(2*lx)*np.sqrt((c[0,0] - c[0,1])*10**(12)/rho0)*(1 + 0.5*expansion_beta(Tempr))\n",
    "    return f\n",
    "\n",
    "def expansion_beta(T):\n",
    "    return integrate.quad(lambda t: (3.725*(1-np.exp(-5.88*10**(-3)*(t-124)))+\\\n",
    "                                     5.548*10**(-4)*t)*10**(-6), 273, T)[0]\n",
    "\n",
    "        \n",
    "def direction_to_alpha(direction):\n",
    "    '''direction  = 'pi#' (string);\n",
    "    this function calculates pi/# or 0 if (# = 0)'''\n",
    "    if direction != '0' and direction != 0:\n",
    "        alph = pi/float(direction[2:])\n",
    "    else:\n",
    "        alph = 0\n",
    "    return alph\n",
    "\n",
    "def direction_label(direction):\n",
    "    if direction == 0 or direction == '0':\n",
    "        res = '$\\\\langle 100\\\\rangle$'\n",
    "    elif direction == 'pi4':\n",
    "        res = '$\\\\langle 110\\\\rangle$'\n",
    "    else:\n",
    "        res = '$\\\\pi/' + direction[2:] + '$'\n",
    "    return res\n",
    "        \n",
    "def latex_float(f):\n",
    "    if \"e\" in f:\n",
    "        base, exponent = f.split(\"e\")\n",
    "        return r\"{0} \\times 10^{{{1}}}\".format(base, int(exponent))\n",
    "    else:\n",
    "        return f    \n",
    "    \n",
    "def make_param_text(s):\n",
    "    '''takes a string like \"n = 1.6e+19 \" and makes \"$n = 1.6x10^19$\"'''\n",
    "    words = s.split(' ')\n",
    "    res = '$' + words[0] + '=' + latex_float(words[2]) + '$'\n",
    "    return res\n",
    "\n",
    "def find_nearest(array,value):\n",
    "    idx = (np.abs(array-value)).argmin()\n",
    "    return idx\n",
    "def annotate_curve(axx, label, xpos, x_array, y_array, x_offset, y_offset):\n",
    "    idx = find_nearest(x_array, xpos)\n",
    "    x, y = (x_array[idx], y_array[idx])\n",
    "    axx.annotate(label, xy=(x, y), xytext=(x + x_offset, y + y_offset),\n",
    "            arrowprops=dict( arrowstyle=\"-\"),\\\n",
    "                fontsize = 18)\n",
    "    \n",
    "eta, Q, x, y, z, lx, ly, lz, nu2, nu3, nu, Vb, d0 = symbols(\"\\\\eta Q x y z l_x l_y l_z \\\\nu_2 \\\\nu_3 \\\\nu V_b d_0\")\n",
    "omega_0, alpha, c11, c12, c44, c111, c112, c123, c144, c155, c456 = \\\n",
    "symbols('\\\\omega_0 \\\\alpha c11 c12 c44 c111 c112 c123 c144 c155 c456')\n",
    "c1111, c1112, c1122, c1123, c1144, c1155, c1244, c1266, c1456, c4444, c4455 = \\\n",
    "symbols('c1111 c1112 c1122 c1123 c1144 c1155 c1244 c1266 c1456 c4444 c4455')\n",
    "Xi_d, Xi_u, N, T, F0, F1, F2, F3, F32,\\\n",
    "J, K, theta_0s, Xi_s2, Xi_s4= symbols(\"\\\\Xi_d \\\\Xi_u N T F_{1/2} {F_{1/2}}' {F_{1/2}}'' {F_{1/2}}''' F_{3/2} J \" +\\\n",
    "                                                                        \"K \\\\theta_0 \\\\Xi_{s2} \\\\Xi_{s4}\")\n",
    "\n",
    "#reasonable average: (based on Laude_1971 and Cohen_2013)\n",
    "params_aver = {'Xiu' : 8.83, 'm' : 0.3216*9./10**28, 'Xiup' : 7.25, 'DeltaD0' : 0.7}\n",
    "# Used in most previous calculations:\n",
    "#params_aver = {'Xiu' : 8.83, 'm' : 0.3216*9./10**28, 'Xiup' : 8.6, 'DeltaD0' : 0.55}\n",
    "#lowest:\n",
    "params_low = {'Xiu' : 8.2, 'm' : 0.3216*9./10**28, 'Xiup' : 7.6, 'DeltaD0' : 0.7}\n",
    "#highest:\n",
    "params_high = {'Xiu' : 9.5, 'm' : 0.3216*9./10**28, 'Xiup' : 10., 'DeltaD0' : 0.44}\n",
    "params = params_aver\n",
    "\n",
    "#Xi_u:          \n",
    "    # 9.6 according to http://www.thompson.ece.ufl.edu/\n",
    "    #Fall2008/ApplPhysLett_89_073509-deformation.pdf\n",
    "    #Hall 1967: 8.6;\n",
    "    #Balslev, 1966: 8.6 at 70K, 9.2 at 295K\n",
    "#m:\n",
    "    # gram ,0.3216*m_e Hensel, Hasegawa 1965 (sqrt(m_pall); old:0.32m_e(Cercignani kinetics book)\n",
    "    #0.36m_e: http://www.htelabs.com/appnotes/Si_silicon_physical_constants_300K_silicon_properties_\n",
    "    #silicon_basic_properties_semiconductor_devices_01.shtml\n",
    "# XiuP = Xi_{u'}, 8.6 +/- 3.0 from Laude\n",
    "\n",
    "\n",
    "ff = open('./single_expressions/c_values_single.dat')\n",
    "single_dc = pickle.load(ff) #symbolic values for delta_c for single crystal\n",
    "ff.close()\n",
    "\n",
    "ff = open('./poly_expressions/c_values_poly.dat')\n",
    "conn_gr_dc = pickle.load(ff) # model with connected grains and common fermi level\n",
    "ff.close()\n",
    "\n",
    "pure_nonlinear_c = False # if False, then values of c_ijk for pure crystal are ignored\n",
    "#this is not always justified but is used for plotting doping-induced nonlinearity separately"
   ]
  },
  {
   "cell_type": "markdown",
   "metadata": {},
   "source": [
    "## Linear Frequency vs $T$: calculate and save"
   ]
  },
  {
   "cell_type": "code",
   "execution_count": 45,
   "metadata": {
    "collapsed": false
   },
   "outputs": [
    {
     "name": "stdout",
     "output_type": "stream",
     "text": [
      "2016-07-05--16-25\n",
      "Extension-0\n",
      "Extension-pi4\n",
      "Lame-0\n",
      "Lame-pi4\n",
      "=============== Done! ================\n"
     ]
    }
   ],
   "source": [
    "import datetime\n",
    "N_ = 5.9e19\n",
    "poly_si = 'connected_gr' #'connected_gr' for connected grains, 'isolated_gr' for isolated grains\n",
    "# 'single' for a single crystal\n",
    "dimensions_Ext = (600.0e-4, 300.0e-4, 20.0e-4)  # cm\n",
    "dimensions_Lame = (400.0e-4, 400.0e-4, 20.0e-4)  # cm\n",
    "T_range = np.linspace(240, 360, 20) #in cm^-3\n",
    "mode_pairs = [('Extension', 0), ('Extension', 'pi4'),\\\n",
    "              ('Lame', 0), ('Lame', 'pi4')]\n",
    "#mode_pairs = [('Extension', 0),\\\n",
    "#              ('Lame', 0)]\n",
    "date_prefix = datetime.datetime.now().strftime('%Y-%m-%d--%H-%M')\n",
    "print date_prefix\n",
    "for mode, direction in mode_pairs:\n",
    "    print '{}-{}'.format(mode, direction)\n",
    "    if mode == 'Extension':\n",
    "        dimensions = dimensions_Ext\n",
    "    else:\n",
    "        dimensions = dimensions_Lame\n",
    "    f_range = []\n",
    "    for T_ in T_range:\n",
    "        f = linear_frequency(mode, direction, T_, N_, dimensions, poly_si)\n",
    "        f_range.append(f)\n",
    "    #Shift frequency to 0 Hz at 300 K:\n",
    "    f_300K = linear_frequency(mode, direction, 300., N_, dimensions, poly_si)\n",
    "    f_range = np.array(f_range) - f_300K\n",
    "    ppm_f_range = f_range/f_300K*10**6\n",
    "    #save data\n",
    "    data_fname = './linear_f_data/' + date_prefix + '_T_LinFreq_' + mode + '_' + str(direction) +'.dat'\n",
    "    if not os.path.exists(os.path.dirname(data_fname)):\n",
    "        os.makedirs(os.path.dirname(data_fname))\n",
    "        print './linear_f_data/ created'\n",
    "    ff = open(data_fname, 'w')\n",
    "    pickle.dump((T_range, f_range), ff)\n",
    "    ff.close()\n",
    "    \n",
    "    data_fname = './linear_f_data/' + date_prefix + '_T_LinFreq_PPM_' + mode + '_' + str(direction) +'.dat'\n",
    "    ff = open(data_fname, 'w')\n",
    "    pickle.dump((T_range, ppm_f_range), ff)\n",
    "    ff.close()\n",
    "ff2 = open('./linear_f_data/'+ date_prefix + '_parameters.txt', 'w')\n",
    "ff2.write(str(params) + '\\n')\n",
    "ff2.write('n = {}\\n'.format(N_))\n",
    "ff2.write('Poly-Si = {}\\n'.format(poly_si))\n",
    "ff2.close()\n",
    "print '=============== Done! ================'"
   ]
  },
  {
   "cell_type": "markdown",
   "metadata": {},
   "source": [
    "## Plot Linear Frequency vs $T$"
   ]
  },
  {
   "cell_type": "code",
   "execution_count": 46,
   "metadata": {
    "collapsed": false
   },
   "outputs": [
    {
     "name": "stdout",
     "output_type": "stream",
     "text": [
      "2016-07-05--16-25\n"
     ]
    },
    {
     "data": {
      "image/png": "[encoded data removed]",
      "text/plain": [
       "<matplotlib.figure.Figure at 0xc730f28>"
      ]
     },
     "metadata": {},
     "output_type": "display_data"
    }
   ],
   "source": [
    "import pickle\n",
    "import numpy as np\n",
    "from matplotlib import pyplot as plt\n",
    "plt.ioff()\n",
    "#styles = ['-', ':', '--', '-.']\n",
    "#date_prefix = '2016-02-16--20-37' \n",
    "#mode_pairs = [('Extension', 0), ('Extension', 'pi4'),\\\n",
    "#              ('Lame', 0), ('Lame', 'pi4')]\n",
    "mode_pairs = [('Extension', 0), ('Extension', 'pi4'),\\\n",
    "              ('Lame', 0), ('Lame', 'pi4')]\n",
    "styles = ['-']*len(mode_pairs)\n",
    "print date_prefix\n",
    "for y_dim in ['Hz', 'ppm']:\n",
    "    fig = plt.figure(figsize=(11,8.5))\n",
    "    ax = fig.add_subplot(111)\n",
    "    for (mode, direction), lst in zip(mode_pairs, styles):\n",
    "        if y_dim == 'ppm':\n",
    "            ff = open('./linear_f_data/' + date_prefix + '_T_LinFreq_PPM_' + mode + '_' + str(direction) +'.dat', 'r')\n",
    "        else:\n",
    "            ff = open('./linear_f_data/' + date_prefix + '_T_LinFreq_' + mode + '_' + str(direction) +'.dat', 'r')\n",
    "        T_range, f_range = pickle.load(ff)\n",
    "        #doping_range = np.linspace(1., 500., 50)\n",
    "        ff.close()    \n",
    "        ax.plot(T_range, f_range, linestyle = lst, lw = 4, label = mode +  \\\n",
    "                ' ' + direction_label(direction) + '')\n",
    "    plot_margin = 0.1\n",
    "    x0, x1, y0, y1 = ax.axis()\n",
    "    ax.axis((x0 - plot_margin,\n",
    "              x1 + plot_margin,\n",
    "              y0 - plot_margin,\n",
    "              y1 + plot_margin))    \n",
    "    ax.legend(loc = 1, fontsize = 20)\n",
    "    ax.set_xlabel('Temperature, K', fontsize = 34)\n",
    "    ax.set_ylabel('$\\Delta f$, ' + y_dim, fontsize = 34)\n",
    "    ax.yaxis.set_label_coords(-0.095, 0.5)\n",
    "    ax.tick_params(axis='both', which='major', labelsize=18)\n",
    "    ax.tick_params(axis='both', which='minor', labelsize=16)\n",
    "    ax.grid(b=True, which='major', color='0.7', linestyle='-')\n",
    "    ax.grid(b=True, which='minor', color='0.5', linestyle='--')\n",
    "    if y_dim == 'Hz':\n",
    "        ff2 = open('./linear_f_data/'+ date_prefix + '_parameters.txt', 'r')\n",
    "        lines = ff2.readlines()\n",
    "        ff2.close()\n",
    "    ax.text(270, ax.get_ylim()[1]*0.8 , lines[1].rstrip() + \" cm$^{{-3}}$\", size=20)\n",
    "    ax.text(270, ax.get_ylim()[1]*0.7 , lines[2].rstrip(), size=20)\n",
    "    #fig.subplots_adjust()\n",
    "    fig.savefig('./linear_f_data/' + date_prefix + '_' + 'Lin_Freq_T_' + y_dim +'.png')\n",
    "    fig.savefig('./linear_f_data/' + date_prefix + '_' + 'Lin_Freq_T_' + y_dim +'.pdf')\n",
    "plt.close(fig)"
   ]
  },
  {
   "cell_type": "markdown",
   "metadata": {},
   "source": [
    "## Linear Frequency T-slope: calculate and save"
   ]
  },
  {
   "cell_type": "code",
   "execution_count": 64,
   "metadata": {
    "collapsed": false
   },
   "outputs": [
    {
     "name": "stdout",
     "output_type": "stream",
     "text": [
      "2016-07-05--16-58\n",
      "Extension-0\n",
      "Lame-0\n",
      "=============== Done! ================\n"
     ]
    }
   ],
   "source": [
    "import datetime\n",
    "poly_si = 'isolated_gr' #'connected_gr' for connected grains, 'isolated_gr' for isolated grains\n",
    "# 'single' for a single crystal\n",
    "dimensions_Ext = (600.*10**(-4), 300.*10**(-4), 20.*10**(-4))  # cm\n",
    "dimensions_Lame = (400.*10**(-4), 400.*10**(-4), 20.*10**(-4))  # cm\n",
    "N_range = np.linspace(10**18, 2*10**20, 60) #in cm^-3\n",
    "T_ = 300 #K\n",
    "dT = 1. #K used for T-derivative\n",
    "#mode_pairs = [('Extension', 0), ('Extension', 'pi4'),\\\n",
    "#              ('Lame', 0), ('Lame', 'pi4')]\n",
    "mode_pairs = [('Extension', 0),\\\n",
    "              ('Lame', 0)]\n",
    "date_prefix = datetime.datetime.now().strftime('%Y-%m-%d--%H-%M')\n",
    "print date_prefix\n",
    "for mode, direction in mode_pairs:\n",
    "    print '{}-{}'.format(mode, direction)\n",
    "    if mode == 'Extension':\n",
    "        dimensions = dimensions_Ext\n",
    "    else:\n",
    "        dimensions = dimensions_Lame\n",
    "    dfdT_range = []\n",
    "    for N_ in N_range:\n",
    "        f_plus = linear_frequency(mode, direction, T_ + 0.5*dT, N_, dimensions, poly_si)\n",
    "        f_minus = linear_frequency(mode, direction, T_ - 0.5*dT, N_, dimensions, poly_si)\n",
    "        dfdT = (f_plus - f_minus)/dT\n",
    "        dfdT_range.append(dfdT)\n",
    "    #Shift frequency to 0 Hz at 300 K:\n",
    "    dfdT_range = np.array(dfdT_range)\n",
    "    #save data\n",
    "    data_fname = './linear_f_slope/' + date_prefix + '_T_lin_slope_' + mode + '_' + str(direction) + '.dat'\n",
    "    if not os.path.exists(os.path.dirname(data_fname)):\n",
    "        os.makedirs(os.path.dirname(data_fname))\n",
    "        print './linear_f_slope/ created'\n",
    "    ff = open(data_fname, 'w')\n",
    "    pickle.dump((N_range, dfdT_range), ff)\n",
    "    ff.close()\n",
    "ff2 = open('./linear_f_slope/'+ date_prefix + '_parameters.txt', 'w')\n",
    "ff2.write(str(params) + '\\n')\n",
    "ff2.write('T = {} K\\n'.format(T_))\n",
    "ff2.write('Poly-Si = {}\\n'.format(poly_si))\n",
    "ff2.close()\n",
    "print '=============== Done! ================'"
   ]
  },
  {
   "cell_type": "markdown",
   "metadata": {},
   "source": [
    "## Plot Linear Frequency T-slope"
   ]
  },
  {
   "cell_type": "code",
   "execution_count": 65,
   "metadata": {
    "collapsed": false
   },
   "outputs": [
    {
     "data": {
      "image/png": "[encoded data removed]",
      "text/plain": [
       "<matplotlib.figure.Figure at 0x18191dd8>"
      ]
     },
     "metadata": {},
     "output_type": "display_data"
    }
   ],
   "source": [
    "import pickle\n",
    "import numpy as np\n",
    "from matplotlib import pyplot as plt\n",
    "#styles = ['-', ':', '--', '-.']\n",
    "#date_prefix = '2016-02-09--11-52' \n",
    "#mode_pairs = [('Extension', 0), ('Extension', 'pi4'),\\\n",
    "#              ('Lame', 0), ('Lame', 'pi4')]\n",
    "mode_pairs = [('Extension', 0),\\\n",
    "              ('Lame', 0)]\n",
    "styles = ['-']*len(mode_pairs)\n",
    "fig = plt.figure(figsize=(11,8.5))\n",
    "ax = fig.add_subplot(111)\n",
    "for (mode, direction), lst in zip(mode_pairs, styles):\n",
    "    ff = open('./linear_f_slope/' + date_prefix + '_T_lin_slope_' + mode + '_' + str(direction) +'.dat', 'r')\n",
    "    N_range, f_range = pickle.load(ff)\n",
    "    ff.close()\n",
    "    ax.plot(N_range, f_range, linestyle = lst, lw = 4, label = mode +  \\\n",
    "            ' ' + direction_label(direction) + '')\n",
    "x0, x1, y0, y1 = ax.axis()\n",
    "   \n",
    "ax.legend(loc = 1, fontsize = 20)\n",
    "ax.set_xlabel('Density, cm$^{{-3}}$', fontsize = 34)\n",
    "ax.set_ylabel('$\\\\frac{\\\\partial f_{lin}}{\\\\partial T}$, Hz/K', fontsize = 34)\n",
    "ax.yaxis.set_label_coords(-0.095, 0.5)\n",
    "ax.tick_params(axis='both', which='major', labelsize=18)\n",
    "ax.tick_params(axis='both', which='minor', labelsize=16)\n",
    "ax.grid(b=True, which='major', color='0.7', linestyle='-')\n",
    "ax.grid(b=True, which='minor', color='0.5', linestyle='--')\n",
    "\n",
    "ff2 = open('./linear_f_slope/'+ date_prefix + '_parameters.txt', 'r')\n",
    "lines = ff2.readlines()\n",
    "ff2.close()\n",
    "text_pos = [0.6*10**20, ax.get_ylim()[0] + 0.2*(ax.get_ylim()[1] - ax.get_ylim()[0])]\n",
    "ax.text(text_pos[0], text_pos[1] , lines[1].rstrip(), size=20)\n",
    "ax.text(text_pos[0], text_pos[1] - 0.07*(ax.get_ylim()[1] - ax.get_ylim()[0])\\\n",
    "        , lines[2].rstrip(), size=20) #poly_si text\n",
    "plt.subplots_adjust(left=0.16, right=0.95, top=0.95, bottom=0.1)\n",
    "fig.savefig('./linear_f_slope/' + date_prefix + '_' + 'Lin_f_slope_N' +'.pdf')\n",
    "plt.show()"
   ]
  },
  {
   "cell_type": "markdown",
   "metadata": {},
   "source": [
    "# Calculate and save the symbolic expressions for elastic energy U(Q)"
   ]
  },
  {
   "cell_type": "code",
   "execution_count": 33,
   "metadata": {
    "collapsed": false
   },
   "outputs": [
    {
     "name": "stdout",
     "output_type": "stream",
     "text": [
      "integration done\n",
      "U_Extension_0.dat\n",
      "integration done\n",
      "U_Extension_pi4.dat\n",
      "integration done\n",
      "U_Lame_0.dat\n",
      "integration done\n",
      "U_Lame_pi4.dat\n"
     ]
    }
   ],
   "source": [
    "mode_pairs = [('Extension', 0), ('Extension', 'pi4'),\\\n",
    "              ('Lame', 0), ('Lame', 'pi4')]\n",
    "for mode, direction in mode_pairs:\n",
    "    alph = direction_to_alpha(direction)\n",
    "    #U_terms(mode, doping, Tempr, alpha, numeric, poly_si)\n",
    "    U = U_terms(mode, 1, 1, alph, False, 'single')\n",
    "    pickle.dump(U, file('U_'+ mode +'_' + str(direction) +'.dat','w'))\n",
    "    print 'U_'+ mode +'_' + str(direction) +'.dat'"
   ]
  },
  {
   "cell_type": "markdown",
   "metadata": {},
   "source": [
    "# Nonlinear Frequency shift vs concentration (calculate and save)"
   ]
  },
  {
   "cell_type": "code",
   "execution_count": null,
   "metadata": {
    "collapsed": false
   },
   "outputs": [],
   "source": [
    "'''  Frequency shift vs concentration  '''\n",
    "import datetime\n",
    "numeric = True\n",
    "omega_0n = 1.\n",
    "T_ = 300.\n",
    "poly_si = 'single' # 'connected_gr', 'isolated_gr'\n",
    "doping_min, doping_max = (float(10**18), float(3e20))\n",
    "NN = 60 #Number of points\n",
    "doping_range = np.exp(np.linspace(np.log(doping_min), np.log(doping_max), NN)) #in cm^-3\n",
    "\n",
    "a_x = 100. #np.sqrt(10**(-13))*100 #cm  Amplitude of the resonator edge\n",
    "unit_a = False # If True, calculate \\delta f/a^2; if false, calculate \\delta f using a_x\n",
    "paper_style = True # calculate \\delta omega/omega0/eps^2, where eps = a_x/l_x\n",
    "\n",
    "dimensions_LE = (600.e-4, 300.e-4, 20.e-4)  # cm\n",
    "dimensions_Lame = (400.e-4, 400.e-4, 20.e-4)  # cm\n",
    "d0_dict = {'Extension_0': 1.1e-4, 'Extension_pi4': 1.1e-4, 'Lame_0': 1.1e-4, 'Lame_pi4': 1.1e-4} #gaps in cm\n",
    "Vb_dict = {'Extension_0': 25., 'Extension_pi4': 25., 'Lame_0': 25., 'Lame_pi4': 25.} #Bias V in Volt\n",
    "\n",
    "om2_ranges = []\n",
    "mode_pairs = [('Extension', '0'),('Extension', 'pi4'),\\\n",
    "              ('Lame', '0'), ('Lame', 'pi4')]\n",
    "date_prefix = datetime.datetime.now().strftime('%Y-%m-%d--%H-%M')\n",
    "print date_prefix\n",
    "\n",
    "for mode, direction in mode_pairs:\n",
    "    print '---------------{}-{}----------------'.format(mode, direction)\n",
    "    if mode == 'Extension':\n",
    "        dimensions = dimensions_LE\n",
    "    else:\n",
    "        dimensions = dimensions_Lame\n",
    "    a = np.pi*a_x/dimensions[0]\n",
    "    df_array = []\n",
    "    f_array = []\n",
    "    alph = direction_to_alpha(direction)\n",
    "    for N_ in doping_range:\n",
    "        om2 = omega_corr(mode, direction, N_, T_, numeric, poly_si)\n",
    "        f = linear_frequency(mode, direction, T_, N_, dimensions, poly_si)\n",
    "        f_array.append(f) \n",
    "        if unit_a:\n",
    "            multpl = 1\n",
    "        else:\n",
    "            multpl = a**2\n",
    "        d0_ = d0_dict[mode + '_' + direction]\n",
    "        Vb_ = Vb_dict[mode + '_' + direction]\n",
    "        df_array.append(evaluate_coeff(om2, N_, T_, omega_0n, dimensions, alph, d0_, Vb_, poly_si)*f*multpl)\n",
    "        \n",
    "    #save data\n",
    "    data_fname = './nl_f_shift/'+ date_prefix + '_concentration_omega_' + mode + '_' + str(direction) +'.dat'\n",
    "    if not os.path.exists(os.path.dirname(data_fname)):\n",
    "        os.makedirs(os.path.dirname(data_fname))\n",
    "        print './nl_f_shift/ created'\n",
    "    ff = open(data_fname, 'w')\n",
    "    pickle.dump((doping_range, df_array, f_array), ff)\n",
    "    ff.close()    \n",
    "#Save parameters used:\n",
    "param_fname = './nl_f_shift/'+ date_prefix + '_concentration_omega_parameters.txt'\n",
    "ff2 = open(param_fname, 'w')\n",
    "params_copy = cp.deepcopy(params)\n",
    "params_copy.update({'unit_a': unit_a, 'a_x': a_x, 'lx_ext': dimensions_LE[0], 'lx_lame': dimensions_Lame[0]})\n",
    "ff2.write(str(params_copy) + '\\n')\n",
    "ff2.write('$T$ = {} K\\n'.format(int(T_)))\n",
    "ff2.write('a_x = {} #cm\\nunit_a = {}\\n'.format(a_x, unit_a))\n",
    "ff2.write('d0 = {}\\n'.format(d0_dict))\n",
    "ff2.write('Vb = {}\\n'.format(Vb_dict))\n",
    "ff2.write('Poly-Si = {}\\n'.format(poly_si))\n",
    "ff2.close()\n",
    "print '=============== Done! ================'"
   ]
  },
  {
   "cell_type": "code",
   "execution_count": 7,
   "metadata": {
    "collapsed": false
   },
   "outputs": [],
   "source": [
    "plt.close('all')"
   ]
  },
  {
   "cell_type": "markdown",
   "metadata": {},
   "source": [
    "## Plot nonlinear shift vs concentration\n",
    "Can plot the data stored in .dat files from previous runs"
   ]
  },
  {
   "cell_type": "code",
   "execution_count": 23,
   "metadata": {
    "collapsed": false
   },
   "outputs": [
    {
     "data": {
      "image/png": "[encoded data removed]",
      "text/plain": [
       "<matplotlib.figure.Figure at 0xb1e2908>"
      ]
     },
     "metadata": {},
     "output_type": "display_data"
    }
   ],
   "source": [
    "import pickle\n",
    "import numpy as np\n",
    "from matplotlib import pyplot as plt\n",
    "\n",
    "    \n",
    "date_prefix = '2016-11-13--20-29' #beginning of the data files\n",
    "y_style = 'paper' # 'paper': use y-axis units as in the paper. Any other value: y-units Hz/m^2 or Hz\n",
    "plt.close('all')\n",
    "plt.rc('font', family='serif')\n",
    "plot_type = \"Concentration\"# \"Temperature\" # \n",
    "mode_pairs = [('Extension', '0'), ('Extension', 'pi4'),\\\n",
    "              ('Lame', '0'), ('Lame', 'pi4')]\n",
    "#labels and their coordinates: [('label', x-data_point, x_offset of label, y_offset of label), ...]\n",
    "clabels = [('3', 2e19, -3e18, 200), ('4', 7e19, -1e19, 200),\\\n",
    "           ('1', 3e18, -0.6e18, 200), ('2', 7e19, -2.0e19, -200)]\n",
    "# read the parameters:\n",
    "ff2 = open('./nl_f_shift/'+ date_prefix + '_concentration_omega_parameters.txt', 'r')\n",
    "lines = ff2.readlines()\n",
    "ff2.close()\n",
    "params_plot = eval(lines[0])\n",
    "\n",
    "styles = ['-']*len(mode_pairs)\n",
    "#styles = ['-','--', ':' , '-.']\n",
    "colors = [ 'b',  'g', 'r', 'c']\n",
    "#colors = ['k']*4\n",
    "label_dict = {'Extension': 'Extension', 'Lame': u\"Lamé\"}\n",
    "fig = plt.figure(figsize=(8,6))\n",
    "ax = fig.add_subplot(111)\n",
    "xfmt = plt.ScalarFormatter(useMathText = True)\n",
    "for (mode, direction), lst, clr, clabel in zip(mode_pairs, styles, colors, clabels):\n",
    "    ff = open('./nl_f_shift/'+ date_prefix + '_' + plot_type +'_omega_' + mode + '_' + str(direction) +'.dat', 'r')\n",
    "    data = pickle.load(ff)\n",
    "    ff.close()  \n",
    "    doping_range, df2_array = (np.array(data[0]), np.array(data[1]))\n",
    "    if y_style == 'paper': # on y axis: (delta f)/f/eps^2, where eps = A_x/l_x; A_x = sqrt(2)*a_x\n",
    "        #A_x - amplitude in paper, a_x amplitude of the edge\n",
    "        f_array = np.array(data[2])\n",
    "        if params_plot['unit_a']: #means df_array = df_hz/(pi*a_x/l_x)^2\n",
    "            mult = 2*np.pi**2/f_array\n",
    "        else:\n",
    "            if mode == 'Extension':\n",
    "                mult = 2*params_plot['lx_ext']**2/params_plot['a_x']**2/f_array\n",
    "            elif mode == 'Lame':\n",
    "                mult = 2*params_plot['lx_lame']**2/params_plot['a_x']**2/f_array\n",
    "            else:\n",
    "                print 'Mode should be Extension or Lame'\n",
    "                break\n",
    "    else:\n",
    "        mult = 1\n",
    "    #ax.plot(doping_range, df2_array*mult, linestyle = lst, lw = 4, label = mode +  \\\n",
    "    #        ' ' + direction_label(direction) + '')\n",
    "    ax.semilogx(doping_range, df2_array*mult, linestyle = lst, lw = 4, color = clr, label = label_dict[mode] +  \\\n",
    "            ' ' + direction_label(direction) + '')\n",
    "    annotate_curve(ax, clabel[0], clabel[1], doping_range, df2_array*mult, clabel[2], clabel[3])\n",
    "#ax.xaxis.set_major_formatter(xfmt)\n",
    "ax.yaxis.set_major_formatter(xfmt)\n",
    "\n",
    "\n",
    "# Add text notes:\n",
    "text_pos = [2*10**18, ax.get_ylim()[0] + 0.8*(ax.get_ylim()[1] - ax.get_ylim()[0])]\n",
    "ax.text(text_pos[0], text_pos[1] , lines[1], size=20)\n",
    "\n",
    "if lines[6] != 'Poly-Si = single\\n':\n",
    "        ax.text(text_pos[0], text_pos[1] - 0.15*(ax.get_ylim()[1] - ax.get_ylim()[0]),\\\n",
    "                lines[6].rstrip(), size=20)\n",
    "\n",
    "\n",
    "#ax.legend(loc = 1, fontsize = 14)\n",
    "\n",
    "ax.set_xlabel('$n$ (cm$^{-3}$)', fontsize = 28)\n",
    "if y_style == 'paper':\n",
    "    ax.set_ylabel('$\\\\delta \\\\omega_\\\\nu/\\\\omega_\\\\nu\\\\eta_\\\\nu^2$', fontsize = 28)\n",
    "else:\n",
    "    try:\n",
    "        if params_plot['unit_a']:\n",
    "            ax.set_ylabel('$\\\\delta f/\\\\varepsilon^2}$ (Hz)', fontsize = 28)\n",
    "        else:\n",
    "            ax.set_ylabel('$\\\\delta f}$ (Hz)', fontsize = 28)\n",
    "            ax.text(text_pos[0], text_pos[1] - 0.05*(ax.get_ylim()[1] - ax.get_ylim()[0]) , '$a_x^2=' +\\\n",
    "            latex_float(str(params_plot['a_x']**2)) + '$ cm$^2$', size=20)\n",
    "    except:\n",
    "        ax.set_ylabel('$\\\\delta f/a^2}$ (Hz)', fontsize = 34)\n",
    "ax.tick_params(axis='both', which='major', labelsize=20)\n",
    "ax.tick_params(axis='both', which='minor', labelsize=16)\n",
    "ax.xaxis.set_ticks([10**18, 10**19, 10**20])\n",
    "ax.yaxis.set_ticks(np.arange(-400, 1600, 200))\n",
    "#Hide some y-axis tick labels:\n",
    "for label in ax.yaxis.get_ticklabels()[1::2]:\n",
    "    label.set_visible(False)\n",
    "ax.yaxis.get_ticklabels()[0].set_visible(False)\n",
    "ax.yaxis.get_ticklabels()[-1].set_visible(False)\n",
    "\n",
    "ax.set_xlim((1e18, 3e20))\n",
    "ax.set_ylim((-400, 1600))\n",
    "ax.tick_params(axis='x', which='major', pad=6)\n",
    "t = ax.yaxis.get_offset_text()\n",
    "t.set_size(18)\n",
    "t = ax.xaxis.get_offset_text()\n",
    "t.set_size(18)\n",
    "#ax.grid(b=True, which='major', color='0.7', linestyle='-')\n",
    "#ax.grid(b=True, which='minor', color='0.5', linestyle='--')\n",
    "\n",
    "fig.tight_layout()\n",
    "fig.savefig('./nl_f_shift/'+ date_prefix + '_' + plot_type +'.png')\n",
    "fig.savefig('./nl_f_shift/'+ date_prefix + '_' + plot_type +'.eps')\n",
    "#fig.show()"
   ]
  },
  {
   "cell_type": "code",
   "execution_count": null,
   "metadata": {
    "collapsed": true
   },
   "outputs": [],
   "source": []
  },
  {
   "cell_type": "markdown",
   "metadata": {},
   "source": [
    "# Nonlinear Frequency shift vs $T$: calculate and save"
   ]
  },
  {
   "cell_type": "code",
   "execution_count": null,
   "metadata": {
    "collapsed": false
   },
   "outputs": [],
   "source": [
    "'''  Frequency shift vs concentration  '''\n",
    "import datetime\n",
    "numeric = True\n",
    "poly_si = 'single' # 'single' 'connected_gr', 'isolated_gr'\n",
    "omega_0n = 1.\n",
    "N_ = 5.9*10**19 #cm^-3\n",
    "dimensions_LE = (600.e-4, 300.e-4, 20.e-4)  # cm\n",
    "dimensions_Lame = (400.e-4, 400.e-4, 20.e-4)  # cm\n",
    "d0_dict = {'Extension_0': 1.1e-4, 'Extension_pi4': 1.1e-4, 'Lame_0': 1.1e-4, 'Lame_pi4': 1.1e-4} #gaps in cm\n",
    "Vb_dict = {'Extension_0': 0., 'Extension_pi4': 0., 'Lame_0': 0., 'Lame_pi4': 0.} #Bias V in Volt\n",
    "T_range = np.linspace(70, 450, 60) #in cm^-3\n",
    "mode_pairs = [('Extension', '0'), ('Extension', 'pi4'),\\\n",
    "              ('Lame', '0'), ('Lame', 'pi4')]\n",
    "\n",
    "date_prefix = datetime.datetime.now().strftime('%Y-%m-%d--%H-%M')\n",
    "#a_x = np.sqrt(10**(-13))*100 #cm  Amplitude of the resonator edge\n",
    "a_x = 100. #cm  Amplitude of the resonator edge\n",
    "unit_a = True # If True, calculate \\delta f/a^2, if false, calculate \\delta f using a_x\n",
    "\n",
    "\n",
    "print date_prefix\n",
    "for mode, direction in mode_pairs:\n",
    "    print '{}-{}'.format(mode, direction)\n",
    "    if mode == 'Extension':\n",
    "        dimensions = dimensions_LE\n",
    "    else:\n",
    "        dimensions = dimensions_Lame\n",
    "    df_array = []\n",
    "    f_array = []\n",
    "    alph = direction_to_alpha(direction)\n",
    "    a = np.pi*a_x/dimensions[0]\n",
    "    for T_ in T_range:\n",
    "        if unit_a:\n",
    "            multpl = 1\n",
    "        else:\n",
    "            multpl = a**2\n",
    "        \n",
    "        om2 = omega_corr(mode, direction, N_, T_, numeric, poly_si)\n",
    "        f = linear_frequency(mode, direction, T_, N_, dimensions, poly_si)\n",
    "        f_array.append(f)\n",
    "        d0_ = d0_dict[mode + '_' + direction]\n",
    "        Vb_ = Vb_dict[mode + '_' + direction]\n",
    "        df_array.append(evaluate_coeff(om2, N_, T_, omega_0n, dimensions, alph, d0_, Vb_, poly_si)*f*multpl)\n",
    "    #save data\n",
    "    data_fname = './T_nl_f_shift/'+ date_prefix + '_Temperature_omega_' + mode + '_' + str(direction) +'.dat'\n",
    "    if not os.path.exists(os.path.dirname(data_fname)):\n",
    "        os.makedirs(os.path.dirname(data_fname))\n",
    "        print './T_nl_f_shift/ created'\n",
    "    ff = open(data_fname, 'w')\n",
    "    pickle.dump((T_range, df_array, f_array), ff)\n",
    "    ff.close()    \n",
    "#Save parameters used:\n",
    "ff2 = open('./T_nl_f_shift/'+ date_prefix + '_T_omega_parameters.txt', 'w')\n",
    "params_copy = cp.deepcopy(params)\n",
    "params_copy.update({'unit_a': unit_a, 'a_x': a_x, 'lx_ext': dimensions_LE[0], 'lx_lame': dimensions_Lame[0]})\n",
    "ff2.write(str(params_copy) + '\\n')\n",
    "ff2.write('n = {}\\n'.format(N_))\n",
    "ff2.write('a_x = {} #cm\\nunit_a = {}\\n'.format(a_x, unit_a))\n",
    "ff2.write('d0 = {}\\n'.format(d0_dict))\n",
    "ff2.write('Vb = {}\\n'.format(Vb_dict))\n",
    "ff2.write('Poly-Si = {}\\n'.format(poly_si))\n",
    "ff2.close()\n",
    "print '=============== Done! ================'"
   ]
  },
  {
   "cell_type": "markdown",
   "metadata": {},
   "source": [
    "## Plot nonlinear frequency shift vs T"
   ]
  },
  {
   "cell_type": "code",
   "execution_count": 24,
   "metadata": {
    "collapsed": false
   },
   "outputs": [
    {
     "data": {
      "image/png": "[encoded data removed]",
      "text/plain": [
       "<matplotlib.figure.Figure at 0x44a9c50>"
      ]
     },
     "metadata": {},
     "output_type": "display_data"
    }
   ],
   "source": [
    "import pickle\n",
    "import numpy as np\n",
    "from matplotlib import pyplot as plt\n",
    "#styles = ['-', ':', '--', '-.']\n",
    "plt.close('all')\n",
    "date_prefix = '2016-11-13--22-42' #look for data files that start with this\n",
    "y_style = 'paper'\n",
    "plot_type = \"Temperature\"# \n",
    "mode_pairs = [('Extension', '0'), ('Extension', 'pi4'),\\\n",
    "              ('Lame', '0'), ('Lame', 'pi4')]\n",
    "#mode_pairs = [('Extension', '0'),\\\n",
    "#              ('Lame', '0')]\n",
    "clabels = [('3', 290, 15, 200), ('4', 180, 15, 200),\\\n",
    "           ('1', 370, 15, 200), ('2', 120, 10, -200)]\n",
    "# read the parameters:\n",
    "ff2 = open('./T_nl_f_shift/'+ date_prefix + '_T_omega_parameters.txt', 'r')\n",
    "lines = ff2.readlines()\n",
    "ff2.close()\n",
    "params_plot = eval(lines[0])\n",
    "\n",
    "styles = ['-']*len(mode_pairs)\n",
    "fig = plt.figure(figsize=(8,5.87))\n",
    "plt.rc('font', family='serif')\n",
    "ax = fig.add_subplot(111)\n",
    "xfmt = plt.ScalarFormatter(useMathText = True) #label formatting '\\times 10^n'\n",
    "for (mode, direction), lst, clabel in zip(mode_pairs, styles, clabels):\n",
    "    ff = open('./T_nl_f_shift/'+ date_prefix + '_' + plot_type +'_omega_' + mode + '_' + str(direction) +  '.dat', 'r')\n",
    "    data = pickle.load(ff)\n",
    "    ff.close()\n",
    "    doping_range, om2_array = [np.array(x) for x in data[:2]]\n",
    "    if y_style == 'paper': # on y axis: (delta f)/f/eps^2, where eps = A_x/l_x; A_x = sqrt(2)*a_x\n",
    "        #A_x - amplitude in paper, a_x amplitude of the edge\n",
    "        f_array = np.array(data[2])\n",
    "        if params_plot['unit_a']: #means df_array = df_hz/(pi*a_x/l_x)^2\n",
    "            mult = 2*np.pi**2/f_array\n",
    "        else:\n",
    "            if mode == 'Extension':\n",
    "                mult = 2*params_plot['lx_ext']**2/params_plot['a_x']**2/f_array\n",
    "            elif mode == 'Lame':\n",
    "                mult = 2*params_plot['lx_lame']**2/params_plot['a_x']**2/f_array\n",
    "            else:\n",
    "                print 'Mode should be Extension or Lame'\n",
    "                break\n",
    "    else:\n",
    "        mult = 1\n",
    "    ax.plot(doping_range, om2_array*mult, linestyle = lst, lw = 4, label = mode +  \\\n",
    "            ' ' + direction_label(direction) + '')\n",
    "    annotate_curve(ax, clabel[0], clabel[1], doping_range, om2_array*mult, clabel[2], clabel[3])\n",
    "\n",
    "ax.xaxis.set_major_formatter(xfmt)\n",
    "ax.yaxis.set_major_formatter(xfmt)\n",
    "#fig = matplotlib.pyplot.gcf()\n",
    "#fig.set_size_inches(18.5, 10.5)\n",
    "ff2 = open('./T_nl_f_shift/'+ date_prefix + '_T_omega_parameters.txt', 'r')\n",
    "lines = ff2.readlines()\n",
    "ff2.close()\n",
    "\n",
    "xlim, ylim = ax.get_xlim(), ax.get_ylim()\n",
    "text_pos = [xlim[0] + 0.6*(xlim[1] - xlim[0]),\\\n",
    "            ylim[1] - 0.1*(ylim[1] - ylim[0])]\n",
    "delta_text_pos = 0.1*(ylim[1] - ylim[0])\n",
    "ax.text(text_pos[0], text_pos[1] , make_param_text(lines[1].rstrip()) + ' cm$^{-3}$', size=20) # n = ... cm^-3\n",
    "ax.set_ylim((ylim[0], 1.17*ylim[1]))\n",
    "if lines[6] != 'Poly-Si = single\\n':\n",
    "        ax.text(text_pos[0], text_pos[1] - 0.15*(ax.get_ylim()[1] - ax.get_ylim()[0]),\\\n",
    "                lines[6].rstrip(), size=20)\n",
    "\n",
    "a_x = float(lines[2].split(' ')[2])\n",
    "unit_a = eval(lines[3].split(' ')[2])\n",
    "\n",
    "ax.set_ylim([-200,1600])\n",
    "ax.set_xlim([70,450]) \n",
    "#ax.legend(loc = 1, fontsize = 14)\n",
    "ax.set_xlabel('$T$ (K)', fontsize = 28)\n",
    "if y_style == 'paper':\n",
    "    ax.set_ylabel('$\\\\delta \\\\omega_\\\\nu/\\\\omega_\\\\nu\\\\eta_\\\\nu^2$', fontsize = 28)\n",
    "else:\n",
    "    if unit_a:\n",
    "        ax.set_ylabel('$\\\\delta f/\\\\varepsilon^2$ (Hz)', fontsize = 28)\n",
    "    elif a_x == 100:\n",
    "        ax.set_ylabel('$\\\\delta f/a_x^2$ (Hz/m$^2$)', fontsize = 28)\n",
    "    else:\n",
    "        ax.set_ylabel('$\\\\delta f$, Hz', fontsize = 28)\n",
    "        ax.text(text_pos[0], text_pos[1] - delta_text_pos , '$a_x =$ {:.3e} cm'.format(a_x), size=20)\n",
    "    \n",
    "ax.tick_params(axis='both', which='major', labelsize=20)\n",
    "ax.tick_params(axis='both', which='minor', labelsize=16)\n",
    "t = ax.yaxis.get_offset_text()\n",
    "t.set_size(18)\n",
    "\n",
    "ax.xaxis.set_ticks([100, 200, 300, 400])\n",
    "ax.yaxis.set_ticks(np.arange(-400, 1600, 200))\n",
    "#Hide some y-axis tick labels:\n",
    "for label in ax.yaxis.get_ticklabels()[1::2]:\n",
    "    label.set_visible(False)\n",
    "ax.yaxis.get_ticklabels()[0].set_visible(False)\n",
    "ax.yaxis.get_ticklabels()[-1].set_visible(False)\n",
    "\n",
    "#ax.grid(b=True, which='major', color='0.7', linestyle='-')\n",
    "#ax.grid(b=True, which='minor', color='0.5', linestyle='--')\n",
    "#plt.title('Frequency correction')\n",
    "#fig.subplots_adjust()\n",
    "fig.tight_layout()\n",
    "fig.savefig('./T_nl_f_shift/'+ date_prefix + '_' + plot_type +'.png')\n",
    "fig.savefig('./T_nl_f_shift/'+ date_prefix + '_' + plot_type +'.eps')\n",
    "#fig.show()"
   ]
  },
  {
   "cell_type": "markdown",
   "metadata": {},
   "source": [
    "# Plot $c_{ij...}$ vs. $n$:"
   ]
  },
  {
   "cell_type": "code",
   "execution_count": null,
   "metadata": {
    "collapsed": false
   },
   "outputs": [],
   "source": [
    "'''  delta_c correction vs concentration  '''\n",
    "omega_0 = 1.\n",
    "c_items = ['1111']\n",
    "doping_range = np.arange(10**10, 0.2*10**21, 2*10**18) #in cm^-3\n",
    "Tempr = 300.          #K \n",
    "c_ranges = [[] for i in c_items]\n",
    "\n",
    "for doping in doping_range:\n",
    "    c = dcn_calc(doping, Tempr)\n",
    "    for i, c_item in enumerate(c_items):\n",
    "        c_ranges[i].append(c[c_item])\n",
    "\n",
    "styles = ['-', '--', ':', '-.']       \n",
    "for i, c_item in enumerate(c_items):\n",
    "    plt.plot(doping_range/10.**20, c_ranges[i], c = 'k', linestyle = styles[i], label = '$\\delta c_{' + c_item + '}$')\n",
    "\n",
    "\n",
    "plt.legend(loc = 1, fontsize = 16)\n",
    "plt.xlabel('Doping, $10^{20}$cm$^{-3}$', fontsize = 22)\n",
    "plt.ylabel('Elastic constant, $10^{12}$dyn/cm$^2$', fontsize = 20)\n",
    "plt.tight_layout()\n",
    "#plt.title('c vs doping')\n",
    "plt.savefig('c_1111_vs_doping.pdf')\n",
    "#plt.show()\n",
    "plt.clf()"
   ]
  },
  {
   "cell_type": "markdown",
   "metadata": {},
   "source": [
    "# Print analytical expressions for $\\delta\\omega^{(2)}$:"
   ]
  },
  {
   "cell_type": "code",
   "execution_count": 111,
   "metadata": {
    "collapsed": false
   },
   "outputs": [
    {
     "name": "stdout",
     "output_type": "stream",
     "text": [
      "U_Extension_0.dat\n"
     ]
    },
    {
     "data": {
      "text/latex": [
       "$$\\text{Extension} \\langle 100\\rangle:$$"
      ],
      "text/plain": [
       "<IPython.core.display.Math object>"
      ]
     },
     "metadata": {},
     "output_type": "display_data"
    },
    {
     "data": {
      "text/latex": [
       "$$\\delta \\omega^{(2)}=\\frac{\\omega_0}{1728 \\pi^{2} \\left(\\nu_2^{2} c_{11} + 2 \\nu_2 \\nu_3 c_{12} - 2 \\nu_2 c_{12} + \\nu_3^{2} c_{11} - 2 \\nu_3 c_{12} + c_{11}\\right)^{3}} \\left(1280 \\left(- \\nu_2^{2} c_{11} - 2 \\nu_2 \\nu_3 c_{12} + 2 \\nu_2 c_{12} - \\nu_3^{2} c_{11} + 2 \\nu_3 c_{12} - c_{11}\\right) \\left(\\nu_2^{3} c_{111} + 3 \\nu_2^{2} \\nu_3 c_{112} - 3 \\nu_2^{2} c_{112} + 3 \\nu_2 \\nu_3^{2} c_{112} - 6 \\nu_2 \\nu_3 c_{123} + 3 \\nu_2 c_{112} + \\nu_3^{3} c_{111} - 3 \\nu_3^{2} c_{112} + 3 \\nu_3 c_{112} - c_{111}\\right)^{2} + 81 \\pi^{2} \\left(\\nu_2^{2} c_{11} + 2 \\nu_2 \\nu_3 c_{12} - 2 \\nu_2 c_{12} + \\nu_3^{2} c_{11} - 2 \\nu_3 c_{12} + c_{11}\\right)^{2} \\left(\\nu_2^{4} c_{1111} + 4 \\nu_2^{3} \\nu_3 c_{1112} - 4 \\nu_2^{3} c_{1112} + 6 \\nu_2^{2} \\nu_3^{2} c_{1122} - 12 \\nu_2^{2} \\nu_3 c_{1123} + 6 \\nu_2^{2} c_{1122} + 4 \\nu_2 \\nu_3^{3} c_{1112} - 12 \\nu_2 \\nu_3^{2} c_{1123} + 12 \\nu_2 \\nu_3 c_{1123} - 4 \\nu_2 c_{1112} + \\nu_3^{4} c_{1111} - 4 \\nu_3^{3} c_{1112} + 6 \\nu_3^{2} c_{1122} - 4 \\nu_3 c_{1112} + c_{1111}\\right)\\right)$$"
      ],
      "text/plain": [
       "<IPython.core.display.Math object>"
      ]
     },
     "metadata": {},
     "output_type": "display_data"
    }
   ],
   "source": [
    "mode, direction = 'Extension', '0'\n",
    "subs_dict = {Vb: 0}\n",
    "om2 = omega_corr(mode, direction, 1, 1, False, 'single').subs(subs_dict)\n",
    "om2 = simplify(om2)\n",
    "show_math('\\\\text{' + mode + '} ' + direction_label(direction)[1:-1] + ':')\n",
    "show_math(om2, \"\\\\delta \\\\omega^{(2)}=\")"
   ]
  },
  {
   "cell_type": "markdown",
   "metadata": {},
   "source": [
    "Without third-order $c_{ijk}$:"
   ]
  },
  {
   "cell_type": "code",
   "execution_count": 119,
   "metadata": {
    "collapsed": false
   },
   "outputs": [
    {
     "name": "stdout",
     "output_type": "stream",
     "text": [
      "U_Extension_0.dat\n"
     ]
    },
    {
     "data": {
      "text/latex": [
       "$$\\text{Extension} \\langle 100\\rangle:$$"
      ],
      "text/plain": [
       "<IPython.core.display.Math object>"
      ]
     },
     "metadata": {},
     "output_type": "display_data"
    },
    {
     "data": {
      "text/latex": [
       "$$\\delta \\omega^{(2)}\\approx\\frac{3 \\omega_0}{128 \\nu^{2} c_{11} + 128 \\nu^{2} c_{12} - 256 \\nu c_{12} + 64 c_{11}} \\left(2 \\nu^{4} c_{1111} + 8 \\nu^{4} c_{1112} + 6 \\nu^{4} c_{1122} - 8 \\nu^{3} c_{1112} - 24 \\nu^{3} c_{1123} + 12 \\nu^{2} c_{1122} + 12 \\nu^{2} c_{1123} - 8 \\nu c_{1112} + c_{1111}\\right)$$"
      ],
      "text/plain": [
       "<IPython.core.display.Math object>"
      ]
     },
     "metadata": {},
     "output_type": "display_data"
    }
   ],
   "source": [
    "mode, direction = 'Extension', 0\n",
    "subs_dict = {Vb: 0, c111: 0, c112:0, c123:0, nu2: nu, nu3: nu}\n",
    "om2 = omega_corr(mode, direction, 1, 1, False, 'single').subs(subs_dict)\n",
    "om2 = simplify(om2)\n",
    "show_math('\\\\text{' + mode + '} ' + direction_label(direction)[1:-1] + ':')\n",
    "show_math(om2, \"\\\\delta \\\\omega^{(2)}\\\\approx\")"
   ]
  },
  {
   "cell_type": "code",
   "execution_count": 115,
   "metadata": {
    "collapsed": false
   },
   "outputs": [
    {
     "name": "stdout",
     "output_type": "stream",
     "text": [
      "U_Extension_pi4.dat\n"
     ]
    },
    {
     "data": {
      "text/latex": [
       "$$\\text{Extension} \\langle 110\\rangle:$$"
      ],
      "text/plain": [
       "<IPython.core.display.Math object>"
      ]
     },
     "metadata": {},
     "output_type": "display_data"
    },
    {
     "data": {
      "text/latex": [
       "$$\\delta \\omega^{(2)}=\\frac{\\omega_0}{6912 \\pi^{2} \\left(\\nu_2^{2} c_{11} + \\nu_2^{2} c_{12} + 2 \\nu_2^{2} c_{44} + 4 \\nu_2 \\nu_3 c_{12} - 2 \\nu_2 c_{11} - 2 \\nu_2 c_{12} + 4 \\nu_2 c_{44} + 2 \\nu_3^{2} c_{11} - 4 \\nu_3 c_{12} + c_{11} + c_{12} + 2 c_{44}\\right)^{3}} \\left(1280 \\left(- \\nu_2^{2} c_{11} - \\nu_2^{2} c_{12} - 2 \\nu_2^{2} c_{44} - 4 \\nu_2 \\nu_3 c_{12} + 2 \\nu_2 c_{11} + 2 \\nu_2 c_{12} - 4 \\nu_2 c_{44} - 2 \\nu_3^{2} c_{11} + 4 \\nu_3 c_{12} - c_{11} - c_{12} - 2 c_{44}\\right) \\left(\\nu_2^{3} c_{111} + 3 \\nu_2^{3} c_{112} + 12 \\nu_2^{3} c_{155} + 6 \\nu_2^{2} \\nu_3 c_{112} + 6 \\nu_2^{2} \\nu_3 c_{123} + 12 \\nu_2^{2} \\nu_3 c_{144} - 3 \\nu_2^{2} c_{111} - 9 \\nu_2^{2} c_{112} + 12 \\nu_2^{2} c_{155} + 12 \\nu_2 \\nu_3^{2} c_{112} - 12 \\nu_2 \\nu_3 c_{112} - 12 \\nu_2 \\nu_3 c_{123} + 24 \\nu_2 \\nu_3 c_{144} + 3 \\nu_2 c_{111} + 9 \\nu_2 c_{112} - 12 \\nu_2 c_{155} + 4 \\nu_3^{3} c_{111} - 12 \\nu_3^{2} c_{112} + 6 \\nu_3 c_{112} + 6 \\nu_3 c_{123} + 12 \\nu_3 c_{144} - c_{111} - 3 c_{112} - 12 c_{155}\\right)^{2} + 81 \\pi^{2} \\left(\\nu_2^{2} c_{11} + \\nu_2^{2} c_{12} + 2 \\nu_2^{2} c_{44} + 4 \\nu_2 \\nu_3 c_{12} - 2 \\nu_2 c_{11} - 2 \\nu_2 c_{12} + 4 \\nu_2 c_{44} + 2 \\nu_3^{2} c_{11} - 4 \\nu_3 c_{12} + c_{11} + c_{12} + 2 c_{44}\\right)^{2} \\left(\\nu_2^{4} c_{1111} + 4 \\nu_2^{4} c_{1112} + 3 \\nu_2^{4} c_{1122} + 24 \\nu_2^{4} c_{1155} + 24 \\nu_2^{4} c_{1266} + 8 \\nu_2^{4} c_{4444} + 8 \\nu_2^{3} \\nu_3 c_{1112} + 24 \\nu_2^{3} \\nu_3 c_{1123} + 96 \\nu_2^{3} \\nu_3 c_{1244} - 4 \\nu_2^{3} c_{1111} - 16 \\nu_2^{3} c_{1112} - 12 \\nu_2^{3} c_{1122} + 32 \\nu_2^{3} c_{4444} + 24 \\nu_2^{2} \\nu_3^{2} c_{1122} + 24 \\nu_2^{2} \\nu_3^{2} c_{1123} + 48 \\nu_2^{2} \\nu_3^{2} c_{1144} - 24 \\nu_2^{2} \\nu_3 c_{1112} - 72 \\nu_2^{2} \\nu_3 c_{1123} + 96 \\nu_2^{2} \\nu_3 c_{1244} + 6 \\nu_2^{2} c_{1111} + 24 \\nu_2^{2} c_{1112} + 18 \\nu_2^{2} c_{1122} - 48 \\nu_2^{2} c_{1155} - 48 \\nu_2^{2} c_{1266} + 48 \\nu_2^{2} c_{4444} + 32 \\nu_2 \\nu_3^{3} c_{1112} - 48 \\nu_2 \\nu_3^{2} c_{1122} - 48 \\nu_2 \\nu_3^{2} c_{1123} + 96 \\nu_2 \\nu_3^{2} c_{1144} + 24 \\nu_2 \\nu_3 c_{1112} + 72 \\nu_2 \\nu_3 c_{1123} - 96 \\nu_2 \\nu_3 c_{1244} - 4 \\nu_2 c_{1111} - 16 \\nu_2 c_{1112} - 12 \\nu_2 c_{1122} + 32 \\nu_2 c_{4444} + 8 \\nu_3^{4} c_{1111} - 32 \\nu_3^{3} c_{1112} + 24 \\nu_3^{2} c_{1122} + 24 \\nu_3^{2} c_{1123} + 48 \\nu_3^{2} c_{1144} - 8 \\nu_3 c_{1112} - 24 \\nu_3 c_{1123} - 96 \\nu_3 c_{1244} + c_{1111} + 4 c_{1112} + 3 c_{1122} + 24 c_{1155} + 24 c_{1266} + 8 c_{4444}\\right)\\right)$$"
      ],
      "text/plain": [
       "<IPython.core.display.Math object>"
      ]
     },
     "metadata": {},
     "output_type": "display_data"
    }
   ],
   "source": [
    "mode, direction = 'Extension', 'pi4'\n",
    "subs_dict = {Vb: 0}\n",
    "om2 = omega_corr(mode, direction, 1, 1, False, 'single').subs(subs_dict)\n",
    "om2 = simplify(om2)\n",
    "show_math('\\\\text{' + mode + '} ' + direction_label(direction)[1:-1] + ':')\n",
    "show_math(om2, \"\\\\delta \\\\omega^{(2)}=\")"
   ]
  },
  {
   "cell_type": "markdown",
   "metadata": {},
   "source": [
    "Without thrid-order $c_{ijk}$:"
   ]
  },
  {
   "cell_type": "code",
   "execution_count": 118,
   "metadata": {
    "collapsed": false
   },
   "outputs": [
    {
     "name": "stdout",
     "output_type": "stream",
     "text": [
      "U_Extension_pi4.dat\n"
     ]
    },
    {
     "data": {
      "text/latex": [
       "$$\\text{Extension} \\langle 110\\rangle:$$"
      ],
      "text/plain": [
       "<IPython.core.display.Math object>"
      ]
     },
     "metadata": {},
     "output_type": "display_data"
    },
    {
     "data": {
      "text/latex": [
       "$$\\delta \\omega^{(2)}\\approx\\frac{3 \\omega_0}{256 \\nu_2^{2} c_{11} + 256 \\nu_2^{2} c_{12} + 512 \\nu_2^{2} c_{44} + 1024 \\nu_2 \\nu_3 c_{12} - 512 \\nu_2 c_{11} - 512 \\nu_2 c_{12} + 1024 \\nu_2 c_{44} + 512 \\nu_3^{2} c_{11} - 1024 \\nu_3 c_{12} + 256 c_{11} + 256 c_{12} + 512 c_{44}} \\left(\\nu_2^{4} c_{1111} + 4 \\nu_2^{4} c_{1112} + 3 \\nu_2^{4} c_{1122} + 24 \\nu_2^{4} c_{1155} + 24 \\nu_2^{4} c_{1266} + 8 \\nu_2^{4} c_{4444} + 8 \\nu_2^{3} \\nu_3 c_{1112} + 24 \\nu_2^{3} \\nu_3 c_{1123} + 96 \\nu_2^{3} \\nu_3 c_{1244} - 4 \\nu_2^{3} c_{1111} - 16 \\nu_2^{3} c_{1112} - 12 \\nu_2^{3} c_{1122} + 32 \\nu_2^{3} c_{4444} + 24 \\nu_2^{2} \\nu_3^{2} c_{1122} + 24 \\nu_2^{2} \\nu_3^{2} c_{1123} + 48 \\nu_2^{2} \\nu_3^{2} c_{1144} - 24 \\nu_2^{2} \\nu_3 c_{1112} - 72 \\nu_2^{2} \\nu_3 c_{1123} + 96 \\nu_2^{2} \\nu_3 c_{1244} + 6 \\nu_2^{2} c_{1111} + 24 \\nu_2^{2} c_{1112} + 18 \\nu_2^{2} c_{1122} - 48 \\nu_2^{2} c_{1155} - 48 \\nu_2^{2} c_{1266} + 48 \\nu_2^{2} c_{4444} + 32 \\nu_2 \\nu_3^{3} c_{1112} - 48 \\nu_2 \\nu_3^{2} c_{1122} - 48 \\nu_2 \\nu_3^{2} c_{1123} + 96 \\nu_2 \\nu_3^{2} c_{1144} + 24 \\nu_2 \\nu_3 c_{1112} + 72 \\nu_2 \\nu_3 c_{1123} - 96 \\nu_2 \\nu_3 c_{1244} - 4 \\nu_2 c_{1111} - 16 \\nu_2 c_{1112} - 12 \\nu_2 c_{1122} + 32 \\nu_2 c_{4444} + 8 \\nu_3^{4} c_{1111} - 32 \\nu_3^{3} c_{1112} + 24 \\nu_3^{2} c_{1122} + 24 \\nu_3^{2} c_{1123} + 48 \\nu_3^{2} c_{1144} - 8 \\nu_3 c_{1112} - 24 \\nu_3 c_{1123} - 96 \\nu_3 c_{1244} + c_{1111} + 4 c_{1112} + 3 c_{1122} + 24 c_{1155} + 24 c_{1266} + 8 c_{4444}\\right)$$"
      ],
      "text/plain": [
       "<IPython.core.display.Math object>"
      ]
     },
     "metadata": {},
     "output_type": "display_data"
    }
   ],
   "source": [
    "mode, direction = 'Extension', 'pi4'\n",
    "subs_dict = {Vb: 0, c111: 0, c112:0, c123:0, c144: 0, c155: 0, nu2:nu2, nu3: nu3}\n",
    "om2 = omega_corr(mode, direction, 1, 1, False, 'single').subs(subs_dict)\n",
    "om2 = simplify(om2)\n",
    "show_math('\\\\text{' + mode + '} ' + direction_label(direction)[1:-1] + ':')\n",
    "show_math(om2, \"\\\\delta \\\\omega^{(2)}\\\\approx\")"
   ]
  },
  {
   "cell_type": "code",
   "execution_count": 110,
   "metadata": {
    "collapsed": false
   },
   "outputs": [
    {
     "name": "stdout",
     "output_type": "stream",
     "text": [
      "U_Lame_0.dat\n"
     ]
    },
    {
     "data": {
      "text/latex": [
       "$$\\text{Lame} \\langle 100\\rangle:$$"
      ],
      "text/plain": [
       "<IPython.core.display.Math object>"
      ]
     },
     "metadata": {},
     "output_type": "display_data"
    },
    {
     "data": {
      "text/latex": [
       "$$\\delta \\omega^{(2)}=\\frac{9 \\omega_0 \\left(c_{1111} - 4 c_{1112} + 3 c_{1122}\\right)}{256 c_{11} - 256 c_{12}}$$"
      ],
      "text/plain": [
       "<IPython.core.display.Math object>"
      ]
     },
     "metadata": {},
     "output_type": "display_data"
    }
   ],
   "source": [
    "mode, direction = 'Lame', '0'\n",
    "subs_dict = {Vb: 0}\n",
    "om2 = omega_corr(mode, direction, 1, 1, False, 'single').subs(subs_dict)\n",
    "om2 = simplify(om2)\n",
    "show_math('\\\\text{' + mode + '} ' + direction_label(direction)[1:-1] + ':')\n",
    "show_math(om2, \"\\\\delta \\\\omega^{(2)}=\")"
   ]
  },
  {
   "cell_type": "code",
   "execution_count": 109,
   "metadata": {
    "collapsed": false
   },
   "outputs": [
    {
     "name": "stdout",
     "output_type": "stream",
     "text": [
      "U_Lame_pi4.dat\n"
     ]
    },
    {
     "data": {
      "text/latex": [
       "$$\\text{Lame} \\langle 110\\rangle:$$"
      ],
      "text/plain": [
       "<IPython.core.display.Math object>"
      ]
     },
     "metadata": {},
     "output_type": "display_data"
    },
    {
     "data": {
      "text/latex": [
       "$$\\delta \\omega^{(2)}=\\frac{9 \\omega_0 c_{4444}}{64 c_{44}}$$"
      ],
      "text/plain": [
       "<IPython.core.display.Math object>"
      ]
     },
     "metadata": {},
     "output_type": "display_data"
    }
   ],
   "source": [
    "mode, direction = 'Lame', 'pi4'\n",
    "subs_dict = {Vb: 0}\n",
    "om2 = omega_corr(mode, direction, 1, 1, False, 'single').subs(subs_dict)\n",
    "om2 = simplify(om2)\n",
    "show_math('\\\\text{' + mode + '} ' + direction_label(direction)[1:-1] + ':')\n",
    "show_math(om2, \"\\\\delta \\\\omega^{(2)}=\")"
   ]
  },
  {
   "cell_type": "markdown",
   "metadata": {},
   "source": [
    "# Frequency and frequency shift in 'paper' notation:\n",
    "Use the notation from the paper, where $A_x$ is used and $u$ field is normalized.\n",
    "$$\n",
    "    m\\omega_0^2 = c^2U_2\n",
    "$$\n",
    "where $c^2 = 2\\pi^2/l_x^2$ for Extension and $c^2 = \\pi^2/2l_x^2$ for Lame. $U_2$ is the coefficient before the quadratic term in elastic energy and is defined in the code. $c$ is chosen so that $\\int dr\\, u^2(r) = V$, and $u_x = -\\frac{cl_x}{\\pi}\\cos \\frac{pi x}{l_x}$.\n",
    "\n",
    "Same thing for $\\gamma_\\nu$:\n",
    "$$\n",
    "    \\gamma_\\nu = c^4 U_4\n",
    "$$"
   ]
  },
  {
   "cell_type": "code",
   "execution_count": 1,
   "metadata": {
    "collapsed": true
   },
   "outputs": [],
   "source": [
    "def expressions_in_paper_notation(mode, direction, subs_dict, subs_dict2 = None, prnt = False):\n",
    "    '''Using the conventions for modes described above (normalization, etc.) \n",
    "    show the components of the quartic frequency shift and linear frequency.\n",
    "    This function does some simplification to present results in the most\n",
    "    compact and readable way.\n",
    "    '''\n",
    "    if mode == 'Extension':\n",
    "        c = sqrt(2)*pi/lx\n",
    "    else:\n",
    "        c = sqrt(2)*pi/lx\n",
    "    U = U_terms(mode, 1, 1, direction_to_alpha(direction), False, 'single')\n",
    "    U_dict = collect(U, Q, evaluate = False)\n",
    "    U_2 = 2*U_dict[Q**2].subs(subs_dict)\n",
    "    U_4 = 4*U_dict[Q**4].subs(subs_dict)\n",
    "    \n",
    "    momega2 = simplify(c**2*U_2)\n",
    "    show_math(momega2, 'm\\\\omega_0^2 = ', prnt)\n",
    "    if subs_dict2 != None:\n",
    "        momega2 = simplify(c**2*U_2.subs(subs_dict2))\n",
    "        show_math(momega2, 'm\\\\omega_0^2 = ', prnt) #prnt = True prints latex text\n",
    "    gamma_nu = simplify(c**4*U_4)#.subs({nu: c12/(c11 + c12)}))\n",
    "    show_math(gamma_nu, '\\\\gamma_\\\\nu = ', prnt)\n",
    "    if mode == 'Extension' and direction == 'pi4':\n",
    "        constants = [c1111, c1112, c1122, c1123, c1144, c1155, c1244, c1266, c4444,\\\n",
    "                     delta_c1111, delta_c1144, delta_c4444]\n",
    "        expr = gamma_nu.args[-1]\n",
    "        expr_terms = 0\n",
    "        for cc in constants:\n",
    "            try:\n",
    "                expr_terms += factor(collect(expr, cc, evaluate = False)[cc])*cc\n",
    "            except:\n",
    "                pass\n",
    "        gamma_nu = expr_terms*pi**4*ly*lz/32/lx**3\n",
    "        show_math(gamma_nu, '\\\\gamma_\\\\nu = ', prnt)\n",
    "    show_math(3*gamma_nu/8/momega2, '\\\\frac{3\\\\gamma_\\\\nu}{8m\\\\omega_0^2} = ', prnt)"
   ]
  },
  {
   "cell_type": "markdown",
   "metadata": {},
   "source": [
    "## Extension $\\langle 100\\rangle$:"
   ]
  },
  {
   "cell_type": "code",
   "execution_count": 129,
   "metadata": {
    "collapsed": false
   },
   "outputs": [
    {
     "name": "stdout",
     "output_type": "stream",
     "text": [
      "integration done\n"
     ]
    },
    {
     "data": {
      "text/latex": [
       "$$m\\omega_0^2 = \\frac{l_{y} l_{z}}{l_{x}} \\pi^{2} \\left(2 \\nu^{2} c_{11} + 2 \\nu^{2} c_{12} - 4 \\nu c_{12} + c_{11}\\right)$$"
      ],
      "text/plain": [
       "<IPython.core.display.Math object>"
      ]
     },
     "metadata": {},
     "output_type": "display_data"
    },
    {
     "data": {
      "text/latex": [
       "$$m\\omega_0^2 = \\frac{\\pi^{2} l_{y} l_{z}}{l_{x} \\left(c_{11} + c_{12}\\right)} \\left(c_{11} \\left(c_{11} + c_{12}\\right) - 2 c_{12}^{2}\\right)$$"
      ],
      "text/plain": [
       "<IPython.core.display.Math object>"
      ]
     },
     "metadata": {},
     "output_type": "display_data"
    },
    {
     "data": {
      "text/latex": [
       "$$\\gamma_\\nu = \\frac{\\pi^{4} l_{y} l_{z}}{4 l_{x}^{3}} \\left(2 \\nu^{4} c_{1111} + 8 \\nu^{4} c_{1112} + 6 \\nu^{4} c_{1122} - 8 \\nu^{3} c_{1112} - 24 \\nu^{3} c_{1123} + 12 \\nu^{2} c_{1122} + 12 \\nu^{2} c_{1123} - 8 \\nu c_{1112} + c_{1111}\\right)$$"
      ],
      "text/plain": [
       "<IPython.core.display.Math object>"
      ]
     },
     "metadata": {},
     "output_type": "display_data"
    },
    {
     "data": {
      "text/latex": [
       "$$\\frac{3\\gamma_\\nu}{8m\\omega_0^2} = \\frac{3 \\pi^{2}}{32 l_{x}^{2} \\left(c_{11} \\left(c_{11} + c_{12}\\right) - 2 c_{12}^{2}\\right)} \\left(c_{11} + c_{12}\\right) \\left(2 \\nu^{4} c_{1111} + 8 \\nu^{4} c_{1112} + 6 \\nu^{4} c_{1122} - 8 \\nu^{3} c_{1112} - 24 \\nu^{3} c_{1123} + 12 \\nu^{2} c_{1122} + 12 \\nu^{2} c_{1123} - 8 \\nu c_{1112} + c_{1111}\\right)$$"
      ],
      "text/plain": [
       "<IPython.core.display.Math object>"
      ]
     },
     "metadata": {},
     "output_type": "display_data"
    }
   ],
   "source": [
    "mode = 'Extension'\n",
    "direction = '0'\n",
    "subs_dict = {Vb: 0, nu2: nu, nu3: nu}\n",
    "subs_d2 = {nu: c12/(c11 + c12)}\n",
    "expressions_in_paper_notation(mode, direction, subs_dict,subs_dict2 = subs_d2, prnt = False)"
   ]
  },
  {
   "cell_type": "markdown",
   "metadata": {},
   "source": [
    "## Extension $\\langle 110\\rangle$:"
   ]
  },
  {
   "cell_type": "code",
   "execution_count": 4,
   "metadata": {
    "collapsed": false
   },
   "outputs": [
    {
     "name": "stdout",
     "output_type": "stream",
     "text": [
      "integration done\n"
     ]
    },
    {
     "data": {
      "text/latex": [
       "$$m\\omega_0^2 = \\frac{\\pi^{2} l_{y} l_{z}}{2 l_{x}} \\left(\\sigma_2^{2} c_{11} + \\sigma_2^{2} c_{12} + 2 \\sigma_2^{2} c_{44} + 4 \\sigma_2 \\sigma_3 c_{12} - 2 \\sigma_2 c_{11} - 2 \\sigma_2 c_{12} + 4 \\sigma_2 c_{44} + 2 \\sigma_3^{2} c_{11} - 4 \\sigma_3 c_{12} + c_{11} + c_{12} + 2 c_{44}\\right)$$"
      ],
      "text/plain": [
       "<IPython.core.display.Math object>"
      ]
     },
     "metadata": {},
     "output_type": "display_data"
    },
    {
     "data": {
      "text/latex": [
       "$$\\gamma_\\nu = \\frac{\\pi^{4} l_{y} l_{z}}{64 l_{x}^{3}} \\left(\\delta{c_{1111}} \\sigma_2^{4} - 8 \\delta{c_{1111}} \\sigma_2^{3} \\sigma_3 - 4 \\delta{c_{1111}} \\sigma_2^{3} + 24 \\delta{c_{1111}} \\sigma_2^{2} \\sigma_3^{2} + 24 \\delta{c_{1111}} \\sigma_2^{2} \\sigma_3 + 6 \\delta{c_{1111}} \\sigma_2^{2} - 32 \\delta{c_{1111}} \\sigma_2 \\sigma_3^{3} - 48 \\delta{c_{1111}} \\sigma_2 \\sigma_3^{2} - 24 \\delta{c_{1111}} \\sigma_2 \\sigma_3 - 4 \\delta{c_{1111}} \\sigma_2 + 16 \\delta{c_{1111}} \\sigma_3^{4} + 32 \\delta{c_{1111}} \\sigma_3^{3} + 24 \\delta{c_{1111}} \\sigma_3^{2} + 8 \\delta{c_{1111}} \\sigma_3 + \\delta{c_{1111}} + 24 \\delta{c_{1144}} \\sigma_2^{4} - 96 \\delta{c_{1144}} \\sigma_2^{3} \\sigma_3 + 96 \\delta{c_{1144}} \\sigma_2^{2} \\sigma_3^{2} - 96 \\delta{c_{1144}} \\sigma_2^{2} \\sigma_3 - 48 \\delta{c_{1144}} \\sigma_2^{2} + 192 \\delta{c_{1144}} \\sigma_2 \\sigma_3^{2} + 96 \\delta{c_{1144}} \\sigma_2 \\sigma_3 + 96 \\delta{c_{1144}} \\sigma_3^{2} + 96 \\delta{c_{1144}} \\sigma_3 + 24 \\delta{c_{1144}} + 16 \\delta{c_{4444}} \\sigma_2^{4} + 64 \\delta{c_{4444}} \\sigma_2^{3} + 96 \\delta{c_{4444}} \\sigma_2^{2} + 64 \\delta{c_{4444}} \\sigma_2 + 16 \\delta{c_{4444}}\\right)$$"
      ],
      "text/plain": [
       "<IPython.core.display.Math object>"
      ]
     },
     "metadata": {},
     "output_type": "display_data"
    },
    {
     "data": {
      "text/latex": [
       "$$\\gamma_\\nu = \\frac{\\pi^{4} l_{y} l_{z}}{32 l_{x}^{3}} \\left(\\delta{c_{1111}} \\left(\\sigma_2 - 2 \\sigma_3 - 1\\right)^{4} + 24 \\delta{c_{1144}} \\left(\\sigma_2 + 1\\right)^{2} \\left(\\sigma_2 - 2 \\sigma_3 - 1\\right)^{2} + 16 \\delta{c_{4444}} \\left(\\sigma_2 + 1\\right)^{4}\\right)$$"
      ],
      "text/plain": [
       "<IPython.core.display.Math object>"
      ]
     },
     "metadata": {},
     "output_type": "display_data"
    },
    {
     "data": {
      "text/latex": [
       "$$\\frac{3\\gamma_\\nu}{8m\\omega_0^2} = \\frac{3 \\pi^{2} \\left(\\delta{c_{1111}} \\left(\\sigma_2 - 2 \\sigma_3 - 1\\right)^{4} + 24 \\delta{c_{1144}} \\left(\\sigma_2 + 1\\right)^{2} \\left(\\sigma_2 - 2 \\sigma_3 - 1\\right)^{2} + 16 \\delta{c_{4444}} \\left(\\sigma_2 + 1\\right)^{4}\\right)}{128 l_{x}^{2} \\left(\\sigma_2^{2} c_{11} + \\sigma_2^{2} c_{12} + 2 \\sigma_2^{2} c_{44} + 4 \\sigma_2 \\sigma_3 c_{12} - 2 \\sigma_2 c_{11} - 2 \\sigma_2 c_{12} + 4 \\sigma_2 c_{44} + 2 \\sigma_3^{2} c_{11} - 4 \\sigma_3 c_{12} + c_{11} + c_{12} + 2 c_{44}\\right)}$$"
      ],
      "text/plain": [
       "<IPython.core.display.Math object>"
      ]
     },
     "metadata": {},
     "output_type": "display_data"
    }
   ],
   "source": [
    "mode = 'Extension'\n",
    "direction = 'pi4'\n",
    "sigma2, sigma3, delta_c1111, delta_c1144, delta_c4444 = \\\n",
    "symbols('\\\\sigma_2 \\\\sigma_3 \\\\delta{c_{1111}} \\\\delta{c_{1144}} \\\\delta{c_{4444}}')\n",
    "#subs_dict = {Vb: 0, nu2: sigma2, nu3: sigma3}\n",
    "#expressions_in_paper_notation(mode, direction, subs_dict, subs_dict2 = None, prnt = False)\n",
    "subs_dict = {Vb: 0, nu2: sigma2, nu3: sigma3, c1111: delta_c1111, c1112: -delta_c1111/2, \\\n",
    "            c1122: delta_c1111/2, c1144: delta_c1144, c1266: delta_c1144, c1244: -delta_c1144/2,\\\n",
    "             c1155: -delta_c1144/2, c4444: delta_c4444, c1123: 0}\n",
    "expressions_in_paper_notation(mode, direction, subs_dict, subs_dict2 = None, prnt = False)"
   ]
  },
  {
   "cell_type": "markdown",
   "metadata": {},
   "source": [
    "## Lame $\\langle 100\\rangle$:"
   ]
  },
  {
   "cell_type": "code",
   "execution_count": 136,
   "metadata": {
    "collapsed": false
   },
   "outputs": [
    {
     "name": "stdout",
     "output_type": "stream",
     "text": [
      "integration done\n"
     ]
    },
    {
     "data": {
      "text/latex": [
       "$$m\\omega_0^2 = \\pi^{2} l_{z} \\left(c_{11} - c_{12}\\right)$$"
      ],
      "text/plain": [
       "<IPython.core.display.Math object>"
      ]
     },
     "metadata": {},
     "output_type": "display_data"
    },
    {
     "name": "stdout",
     "output_type": "stream",
     "text": [
      "m\\omega_0^2 = \\pi^{2} l_{z} \\left(c_{11} - c_{12}\\right)\n"
     ]
    },
    {
     "data": {
      "text/latex": [
       "$$\\gamma_\\nu = \\frac{3 \\pi^{4} l_{z}}{16 l_{x}^{2}} \\left(c_{1111} - 4 c_{1112} + 3 c_{1122}\\right)$$"
      ],
      "text/plain": [
       "<IPython.core.display.Math object>"
      ]
     },
     "metadata": {},
     "output_type": "display_data"
    },
    {
     "name": "stdout",
     "output_type": "stream",
     "text": [
      "\\gamma_\\nu = \\frac{3 \\pi^{4} l_{z}}{16 l_{x}^{2}} \\left(c_{1111} - 4 c_{1112} + 3 c_{1122}\\right)\n"
     ]
    },
    {
     "data": {
      "text/latex": [
       "$$\\frac{3\\gamma_\\nu}{8m\\omega_0^2} = \\frac{9 \\pi^{2} \\left(c_{1111} - 4 c_{1112} + 3 c_{1122}\\right)}{128 l_{x}^{2} \\left(c_{11} - c_{12}\\right)}$$"
      ],
      "text/plain": [
       "<IPython.core.display.Math object>"
      ]
     },
     "metadata": {},
     "output_type": "display_data"
    },
    {
     "name": "stdout",
     "output_type": "stream",
     "text": [
      "\\frac{3\\gamma_\\nu}{8m\\omega_0^2} = \\frac{9 \\pi^{2} \\left(c_{1111} - 4 c_{1112} + 3 c_{1122}\\right)}{128 l_{x}^{2} \\left(c_{11} - c_{12}\\right)}\n"
     ]
    }
   ],
   "source": [
    "mode = 'Lame'\n",
    "direction = '0'\n",
    "subs_dict = {Vb: 0}\n",
    "subs_d2 = None\n",
    "expressions_in_paper_notation(mode, direction, subs_dict,subs_dict2 = subs_d2, prnt = True)"
   ]
  },
  {
   "cell_type": "markdown",
   "metadata": {},
   "source": [
    "## Lame $\\langle 110\\rangle$:"
   ]
  },
  {
   "cell_type": "code",
   "execution_count": 138,
   "metadata": {
    "collapsed": false
   },
   "outputs": [
    {
     "name": "stdout",
     "output_type": "stream",
     "text": [
      "integration done\n"
     ]
    },
    {
     "data": {
      "text/latex": [
       "$$m\\omega_0^2 = 2 \\pi^{2} c_{44} l_{z}$$"
      ],
      "text/plain": [
       "<IPython.core.display.Math object>"
      ]
     },
     "metadata": {},
     "output_type": "display_data"
    },
    {
     "name": "stdout",
     "output_type": "stream",
     "text": [
      "m\\omega_0^2 = 2 \\pi^{2} c_{44} l_{z}\n"
     ]
    },
    {
     "data": {
      "text/latex": [
       "$$\\gamma_\\nu = \\frac{3 \\pi^{4} c_{4444} l_{z}}{2 l_{x}^{2}}$$"
      ],
      "text/plain": [
       "<IPython.core.display.Math object>"
      ]
     },
     "metadata": {},
     "output_type": "display_data"
    },
    {
     "name": "stdout",
     "output_type": "stream",
     "text": [
      "\\gamma_\\nu = \\frac{3 \\pi^{4} c_{4444} l_{z}}{2 l_{x}^{2}}\n"
     ]
    },
    {
     "data": {
      "text/latex": [
       "$$\\frac{3\\gamma_\\nu}{8m\\omega_0^2} = \\frac{9 \\pi^{2} c_{4444}}{32 c_{44} l_{x}^{2}}$$"
      ],
      "text/plain": [
       "<IPython.core.display.Math object>"
      ]
     },
     "metadata": {},
     "output_type": "display_data"
    },
    {
     "name": "stdout",
     "output_type": "stream",
     "text": [
      "\\frac{3\\gamma_\\nu}{8m\\omega_0^2} = \\frac{9 \\pi^{2} c_{4444}}{32 c_{44} l_{x}^{2}}\n"
     ]
    }
   ],
   "source": [
    "mode = 'Lame'\n",
    "direction = 'pi4'\n",
    "subs_dict = {Vb: 0}\n",
    "subs_d2 = None\n",
    "expressions_in_paper_notation(mode, direction, subs_dict,subs_dict2 = subs_d2, prnt = True)"
   ]
  },
  {
   "cell_type": "markdown",
   "metadata": {},
   "source": [
    "# Calculate $E$, $\\nu_2$ and $\\nu_3$\n",
    "for $\\langle 100\\rangle$ and $\\langle 110\\rangle$ directions of the beam"
   ]
  },
  {
   "cell_type": "code",
   "execution_count": 34,
   "metadata": {
    "collapsed": false
   },
   "outputs": [
    {
     "data": {
      "text/latex": [
       "$$\\nu_2 = \\frac{c_{11} \\left(c_{11} + c_{12} - 2 c_{44}\\right) - 2 c_{12}^{2}}{c_{11} \\left(c_{11} + c_{12} + 2 c_{44}\\right) - 2 c_{12}^{2}}$$"
      ],
      "text/plain": [
       "<IPython.core.display.Math object>"
      ]
     },
     "metadata": {},
     "output_type": "display_data"
    },
    {
     "name": "stdout",
     "output_type": "stream",
     "text": [
      "\\nu_2 = \\frac{c_{11} \\left(c_{11} + c_{12} - 2 c_{44}\\right) - 2 c_{12}^{2}}{c_{11} \\left(c_{11} + c_{12} + 2 c_{44}\\right) - 2 c_{12}^{2}}\n"
     ]
    },
    {
     "data": {
      "text/latex": [
       "$$\\nu_3 = \\frac{4 c_{12} c_{44}}{c_{11} \\left(c_{11} + c_{12} + 2 c_{44}\\right) - 2 c_{12}^{2}}$$"
      ],
      "text/plain": [
       "<IPython.core.display.Math object>"
      ]
     },
     "metadata": {},
     "output_type": "display_data"
    },
    {
     "name": "stdout",
     "output_type": "stream",
     "text": [
      "\\nu_3 = \\frac{4 c_{12} c_{44}}{c_{11} \\left(c_{11} + c_{12} + 2 c_{44}\\right) - 2 c_{12}^{2}}\n"
     ]
    },
    {
     "data": {
      "text/latex": [
       "$$E = \\frac{4 c_{44} \\left(c_{11}^{2} + c_{11} c_{12} - 2 c_{12}^{2}\\right)}{c_{11}^{2} + c_{11} c_{12} + 2 c_{11} c_{44} - 2 c_{12}^{2}}$$"
      ],
      "text/plain": [
       "<IPython.core.display.Math object>"
      ]
     },
     "metadata": {},
     "output_type": "display_data"
    },
    {
     "name": "stdout",
     "output_type": "stream",
     "text": [
      "E = \\frac{4 c_{44} \\left(c_{11}^{2} + c_{11} c_{12} - 2 c_{12}^{2}\\right)}{c_{11}^{2} + c_{11} c_{12} + 2 c_{11} c_{44} - 2 c_{12}^{2}}\n"
     ]
    }
   ],
   "source": [
    "\n",
    "numeric = False\n",
    "direction = '110'\n",
    "doping = 10**10\n",
    "Tempr = 300.\n",
    "\n",
    "elements_2d, elements_3d, elements_4d = c_elements(doping, Tempr, numeric)\n",
    "#2d, 3d, 4d stand for c_ij, c_ijk, c_ijkl\n",
    "if direction == '100':\n",
    "    c_2d = construct_tensor(elements_2d, numeric)\n",
    "    #c_3d = construct_tensor(elements_3d, numeric)\n",
    "    #c_4d = construct_tensor(elements_4d, numeric)\n",
    "elif direction == '110':\n",
    "    c_2d = rotate_tensor(construct_tensor(elements_2d, numeric), pi/4 ,numeric)\n",
    "    #c_3d = rotate_tensor(construct_tensor(elements_3d, numeric), ,numeric)\n",
    "    #c_4d = rotate_tensor(construct_tensor(elements_4d, numeric), ,numeric)\n",
    "else:\n",
    "    print '\"direction\" in omega_corr_stretch must be either 100 or 110'\n",
    "nu2s = (c_2d[0,1]*c_2d[2,2] - c_2d[0,2]**2)/(c_2d[0,0]*c_2d[2,2] - c_2d[0,2]**2)\n",
    "nu3s = -c_2d[0,2]*(c_2d[0,1] - c_2d[0,0])/(c_2d[0,0]*c_2d[2,2] - c_2d[0,2]**2)\n",
    "E = (c_2d[2,2]*(c_2d[0,0]**2 - c_2d[0,1]**2) - 2*c_2d[0,0]*c_2d[0,2]**2 + 2*c_2d[0,1]*c_2d[0,2]**2)/\\\n",
    "(c_2d[0,0]*c_2d[2,2] - c_2d[0,2]**2)\n",
    "#print nu2s\n",
    "#print nu3s\n",
    "show_math(simplify(nu2s), '\\\\nu_2 = ', prnt = True)\n",
    "show_math(simplify(nu3s), '\\\\nu_3 = ', prnt = True)\n",
    "show_math(simplify(E), 'E = ', prnt = True)"
   ]
  },
  {
   "cell_type": "markdown",
   "metadata": {},
   "source": [
    "# Test Calculation"
   ]
  },
  {
   "cell_type": "code",
   "execution_count": 26,
   "metadata": {
    "collapsed": false
   },
   "outputs": [
    {
     "name": "stdout",
     "output_type": "stream",
     "text": [
      "E_f = [ 0.11783638] eV\n",
      "delta_11 = -0.0734219517458\n",
      "delta_12 = 0.0367109758729\n",
      "\n",
      "delta_111 = 0.934623157695\n",
      "delta_112 = -0.467311578847\n",
      "delta_123 = 0.934623157695\n",
      "delta_144 = 1.65199391428\n",
      "delta_155 = -0.82599695714\n"
     ]
    }
   ],
   "source": [
    "N_ = 2.*10**20 #cm^-3\n",
    "T_ = 0.1*1.38*10**(-16) #erg\n",
    "su_ = 9.0/(6.2415*10**11)\n",
    "Ds_ = -100./(6.2415*10**11)\n",
    "theta_0 = find_theta_0(N_, T_)\n",
    "print \"E_f = {} eV\".format(theta_0*T_/(1.602177/10**12))\n",
    "F0_ = fdint.fdk(0.5, theta_0)\n",
    "F1_ = derivative(fdint.fdk, theta_0, 0.05)\n",
    "F2_ = double_der(fdint.fdk, theta_0, 0.05)\n",
    "F3_ = triple_der(fdint.fdk, theta_0, 0.05)\n",
    "\n",
    "\n",
    "delta_11 = -2.*N_*su_**2*F1_[0]/9./T_/F0_[0]\n",
    "print \"delta_11 = {}\".format(delta_11/10**12)\n",
    "delta_12 = -delta_11/2.\n",
    "print \"delta_12 = {}\".format(delta_12/10**12)\n",
    "print ''\n",
    "delta_111 = 2.*N_*su_**3*F2_[0]/27./T_**2/F0_[0]\n",
    "print \"delta_111 = {}\".format(delta_111/10**12)\n",
    "delta_112 = -delta_111/2.\n",
    "print \"delta_112 = {}\".format(delta_112/10**12)\n",
    "delta_123 = 2.*N_*su_**3*F2_[0]/27./T_**2/F0_[0]\n",
    "print \"delta_123 = {}\".format(delta_123/10**12)\n",
    "delta_144 = -N_*su_*Ds_*F1_[0]/9./F0_[0]/T_\n",
    "print \"delta_144 = {}\".format(delta_144/10**12)\n",
    "print \"delta_155 = {}\".format(delta_155/10**12)"
   ]
  },
  {
   "cell_type": "code",
   "execution_count": 33,
   "metadata": {
    "collapsed": false
   },
   "outputs": [
    {
     "name": "stdout",
     "output_type": "stream",
     "text": [
      "C_11 = -0.017079025126\n",
      "0.5(C_11-C_12) = -0.0128092688445\n",
      "C_44 = -0.0032181298603\n",
      "C_44_1 = -0.00284393174718\n",
      "C_44_2 (mass change) = -0.000374198113125\n",
      "\n",
      "C_111 = 1.25184512312\n",
      "C_111+2C_123-3C_112 = 5.63330305403\n",
      "\n",
      "C_144 = 0.596292209061\n",
      "C_144_1 = 0.520195489887\n",
      "C_144_2 (mass change) = 0.0760967191744\n",
      "\n",
      "C_144 - C_166 = 0.894438313592\n",
      "C_155 = -0.298146104531\n",
      "C_1111 = 408.337065287\n",
      "C_1112 = -204.168532643\n",
      "C_1122 = 204.168532643\n",
      "C_4444 = -49.688230812\n"
     ]
    }
   ],
   "source": [
    "N_ = 1.98*10**19\n",
    "T_ = 298. #K\n",
    "\n",
    "dcns = dcn_calc(N_, T_)\n",
    "print \"C_11 = {}\".format(dcns['11'])\n",
    "print \"0.5(C_11-C_12) = {}\".format(0.5*(dcns['11'] - dcns['12']))\n",
    "print \"C_44 = {}\".format(dcns['44'])\n",
    "print \"C_44_1 = {}\".format(dcns['44_1'])\n",
    "print \"C_44_2 (mass change) = {}\\n\".format(dcns['44_2'])\n",
    "print \"C_111 = {}\".format(dcns['111'])\n",
    "print \"C_111+2C_123-3C_112 = {}\".format(dcns['111'] + 2*dcns['123'] - 3*dcns['112'])\n",
    "\n",
    "print \"\\nC_144 = {}\".format(dcns['144'])\n",
    "print \"C_144_1 = {}\".format(dcns['144_1'])\n",
    "print \"C_144_2 (mass change) = {}\\n\".format(dcns['144_2'])\n",
    "\n",
    "\n",
    "print \"C_144 - C_166 = {}\".format(dcns['144'] - dcns['155'])\n",
    "print \"C_155 = {}\".format(dcns['155'])\n",
    "print \"C_1111 = {}\".format(dcns['1111'])\n",
    "print \"C_1112 = {}\".format(dcns['1112'])\n",
    "print \"C_1122 = {}\".format(dcns['1122'])\n",
    "print \"C_4444 = {}\".format(dcns['4444'])\n",
    "#print dcns.keys()"
   ]
  },
  {
   "cell_type": "markdown",
   "metadata": {},
   "source": [
    "## Calculate $c_{ij}, c_{ijk}, c_{ijkl}$ vs concentration"
   ]
  },
  {
   "cell_type": "code",
   "execution_count": 43,
   "metadata": {
    "collapsed": false
   },
   "outputs": [
    {
     "name": "stdout",
     "output_type": "stream",
     "text": [
      "2016-02-17--13-46\n",
      "=============== Done! ================\n"
     ]
    }
   ],
   "source": [
    "'''  c_ij, c_ijk, c_ijkl vs concentration  '''\n",
    "import datetime\n",
    "\n",
    "numeric = True\n",
    "T_ = 300.\n",
    "doping_range = np.linspace(10**18, 2*10**20, 50) #in cm^-3\n",
    "constants = ['11', '144', '12', '155', '4455', '1144', '1155', '44',\\\n",
    "             '1123', '1266', '456', '1111', '1456', '123', '111', '1244', '1122', '112', '4444', '1112']\n",
    "\n",
    "date_prefix = datetime.datetime.now().strftime('%Y-%m-%d--%H-%M')\n",
    "print date_prefix\n",
    "\n",
    "c_ranges = {}\n",
    "for const in constants:\n",
    "    c_ranges[const] = []\n",
    "\n",
    "for n in doping_range:\n",
    "    dcns = dcn_calc(n, T_)\n",
    "    for const in constants:\n",
    "        c_ranges[const].append(dcns[const])\n",
    "    \n",
    "#save data\n",
    "for const in constants:\n",
    "    ff = open('./c_ij_vs_n/'+ date_prefix + '_c_' + const + '_n_.dat', 'w')\n",
    "    pickle.dump((doping_range, c_ranges[const]), ff)\n",
    "    ff.close()\n",
    "\n",
    "    \n",
    "ff2 = open('./c_ij_vs_n/'+ date_prefix + '_c_n_parameters.txt', 'w')\n",
    "ff2.write(str(params) + '\\n')\n",
    "ff2.write('T = {} K'.format(int(T_)))\n",
    "ff2.close()\n",
    "print '=============== Done! ================'\n"
   ]
  },
  {
   "cell_type": "markdown",
   "metadata": {},
   "source": [
    "## Plot $c_{ij}, c_{ijk}, c_{ijkl}$ vs concentration or $T$"
   ]
  },
  {
   "cell_type": "code",
   "execution_count": 6,
   "metadata": {
    "collapsed": false
   },
   "outputs": [],
   "source": [
    "import numpy as np\n",
    "from matplotlib import pyplot as plt\n",
    "#styles = ['-', ':', '--', '-.']\n",
    "date_prefix = '2016-02-17--13-46'\n",
    "plot_type = \"Concentration\"# \"Temperature\" # \n",
    "constants = ['1111', '4444']\n",
    "\n",
    "styles = ['-']*len(constants)\n",
    "fig = plt.figure(figsize=(11,8.5))\n",
    "ax = fig.add_subplot(111)\n",
    "for const, lst in zip(constants, styles):\n",
    "    ff = open('./c_ij_vs_n/'+ date_prefix + '_c_' + const + '_n_.dat', 'r')\n",
    "    x_range, c_range = pickle.load(ff)\n",
    "    ff.close()\n",
    "    ax.plot(x_range, c_range, linestyle = lst, lw = 4, label = '$\\\\delta c_{{' + const + '}}$')\n",
    "ff2 = open('./c_ij_vs_n/'+ date_prefix + '_c_n_parameters.txt', 'r')\n",
    "lines = ff2.readlines()\n",
    "ff2.close()\n",
    "ax.text(1.*10**20, 320, lines[1], size=20)\n",
    "\n",
    "#fig = matplotlib.pyplot.gcf()\n",
    "#fig.set_size_inches(18.5, 10.5)\n",
    "plot_margin = 100.\n",
    "#x0, x1, y0, y1 = ax.axis()\n",
    "#ax.axis((x0 - plot_margin - 0.1,\n",
    "#          x1 + plot_margin,\n",
    "#          y0 - plot_margin -0.05,\n",
    "#          y1 + plot_margin))    \n",
    "ax.legend(loc = 1, fontsize = 20)\n",
    "if plot_type == 'Concentration':\n",
    "    ax.set_xlabel('n, cm$^{-3}$', fontsize = 34)\n",
    "else:\n",
    "    ax.set_xlabel('T, K', fontsize = 34)\n",
    "ax.set_ylabel('$\\\\delta c$, $10^{{12}}$dyn/cm$^2$', fontsize = 34)\n",
    "ax.tick_params(axis='both', which='major', labelsize=18)\n",
    "#ax.tick_params(axis='both', which='minor', labelsize=16)\n",
    "t = ax.yaxis.get_offset_text()\n",
    "t.set_size(18)\n",
    "t = ax.xaxis.get_offset_text()\n",
    "t.set_size(18)\n",
    "ax.grid(b=True, which='major', color='0.7', linestyle='-')\n",
    "ax.grid(b=True, which='minor', color='0.5', linestyle='--')\n",
    "\n",
    "#ax.set_ylim([2,2])\n",
    "plt.subplots_adjust(left=0.13, right=0.95, top=0.95, bottom=0.1)\n",
    "c_str = '_'\n",
    "for const in constants:\n",
    "    c_str = c_str + const + '_'\n",
    "fig.savefig('./c_ij_vs_n/'+ date_prefix + c_str + plot_type +'.pdf')"
   ]
  },
  {
   "cell_type": "markdown",
   "metadata": {},
   "source": [
    "## Change of $c_{ij}$ with volume\n",
    "considering third-order nonlienarity only, that is $c_{ijk}$"
   ]
  },
  {
   "cell_type": "code",
   "execution_count": 27,
   "metadata": {
    "collapsed": false
   },
   "outputs": [
    {
     "data": {
      "text/latex": [
       "$$\\varepsilon_{{xx}} c_{111} + \\varepsilon_{{yy}} c_{112} + \\varepsilon_{{zz}} c_{112} + c_{11}$$"
      ],
      "text/plain": [
       "<IPython.core.display.Math object>"
      ]
     },
     "execution_count": 27,
     "metadata": {},
     "output_type": "execute_result"
    }
   ],
   "source": [
    "elements_2d, elements_3d, elements_4d = c_elements(N_, 200., numeric = False)\n",
    "c2 = construct_tensor(elements_2d, numeric=False)\n",
    "c3 = construct_tensor(elements_3d, numeric=False)\n",
    "eps_xx, eps_yy, eps_zz, eps_yz, eps_xz, eps_xy = symbols('\\\\varepsilon_{xx} \\\\varepsilon_{yy} \\\\varepsilon_{zz} ' +\\\n",
    "                                                        '\\\\varepsilon_{yz} \\\\varepsilon_{xz} \\\\varepsilon_{xy}')\n",
    "eps = [eps_xx, eps_yy, eps_zz, eps_yz, eps_xz, eps_xy]\n",
    "F = Rational(1,2)*einsum('ij,i,j', c2, eps, eps) + Rational(1,6)*einsum('ijk,i,j,k', c3, eps, eps, eps)\n",
    "c_11_V = diff(F, eps_xx, eps_xx)\n",
    "Math(latex(c_11_V))"
   ]
  },
  {
   "cell_type": "markdown",
   "metadata": {},
   "source": [
    "## Calculate linear $f$ at particular points"
   ]
  },
  {
   "cell_type": "code",
   "execution_count": 12,
   "metadata": {
    "collapsed": false
   },
   "outputs": [
    {
     "name": "stdout",
     "output_type": "stream",
     "text": [
      "2016-05-03--15-53\n",
      "Doping = 5.9e+18\n",
      "\tExtension-0\n",
      "\t\tAt T = -20 C, f0 = 6171423.33217 Hz\n",
      "\t\tAt T = 10 C, f0 = 6178465.25247 Hz\n",
      "\t\tAt T = 40 C, f0 = 6185195.62723 Hz\n",
      "\t\tAt T = 70 C, f0 = 6191681.49925 Hz\n",
      "\tExtension-pi4\n",
      "\t\tAt T = -20 C, f0 = 7087331.29506 Hz\n",
      "\t\tAt T = 10 C, f0 = 7087091.49632 Hz\n",
      "\t\tAt T = 40 C, f0 = 7086591.74125 Hz\n",
      "\t\tAt T = 70 C, f0 = 7085887.02432 Hz\n",
      "\tLame-0\n",
      "\t\tAt T = -20 C, f0 = 8173724.10651 Hz\n",
      "\t\tAt T = 10 C, f0 = 8185452.48637 Hz\n",
      "\t\tAt T = 40 C, f0 = 8196728.46784 Hz\n",
      "\t\tAt T = 70 C, f0 = 8207650.92706 Hz\n",
      "\tLame-pi4\n",
      "\t\tAt T = -20 C, f0 = 10355360.2204 Hz\n",
      "\t\tAt T = 10 C, f0 = 10348977.8839 Hz\n",
      "\t\tAt T = 40 C, f0 = 10342273.6082 Hz\n",
      "\t\tAt T = 70 C, f0 = 10335319.4871 Hz\n"
     ]
    }
   ],
   "source": [
    "N_ = 5.9*10**18\n",
    "dimensions_Ext = (600.*10**(-4), 300.*10**(-4), 20.*10**(-4))  # cm\n",
    "dimensions_Lame = (400.*10**(-4), 400.*10**(-4), 20.*10**(-4))  # cm\n",
    "#T_range = np.linspace(240, 360, 20) # K\n",
    "T_range = [253, 283, 313, 343] # K\n",
    "mode_pairs = [('Extension', 0), ('Extension', 'pi4'),\\\n",
    "              ('Lame', 0), ('Lame', 'pi4')]\n",
    "date_prefix = datetime.datetime.now().strftime('%Y-%m-%d--%H-%M')\n",
    "print date_prefix\n",
    "print 'Doping = {}'.format(N_)\n",
    "for mode, direction in mode_pairs:\n",
    "    print '\\t{}-{}'.format(mode, direction)\n",
    "    if mode == 'Extension':\n",
    "        dimensions = dimensions_Ext\n",
    "    else:\n",
    "        dimensions = dimensions_Lame\n",
    "    f_range = []\n",
    "    for T_ in T_range:\n",
    "        f = linear_frequency(mode, direction, T_, N_, dimensions)\n",
    "        print '\\t\\tAt T = {} C, f0 = {} Hz'.format(T_ - 273, f)"
   ]
  },
  {
   "cell_type": "markdown",
   "metadata": {},
   "source": [
    "## $\\theta_0$ calculation:\n",
    "$\\theta_0 = \\mu_0/T$"
   ]
  },
  {
   "cell_type": "code",
   "execution_count": 5,
   "metadata": {
    "collapsed": false
   },
   "outputs": [
    {
     "name": "stdout",
     "output_type": "stream",
     "text": [
      "13.2720594271\n"
     ]
    }
   ],
   "source": [
    "N_ = 1.*10**21 #cm^-3\n",
    "T_ = 300*1.38*10**(-16) #erg\n",
    "\n",
    "theta_0 = find_theta_0(N_, T_)\n",
    "print theta_0[0]"
   ]
  }
 ],
 "metadata": {
  "anaconda-cloud": {},
  "kernelspec": {
   "display_name": "Python [default]",
   "language": "python",
   "name": "python2"
  },
  "language_info": {
   "codemirror_mode": {
    "name": "ipython",
    "version": 2
   },
   "file_extension": ".py",
   "mimetype": "text/x-python",
   "name": "python",
   "nbconvert_exporter": "python",
   "pygments_lexer": "ipython2",
   "version": "2.7.12"
  }
 },
 "nbformat": 4,
 "nbformat_minor": 0
}
